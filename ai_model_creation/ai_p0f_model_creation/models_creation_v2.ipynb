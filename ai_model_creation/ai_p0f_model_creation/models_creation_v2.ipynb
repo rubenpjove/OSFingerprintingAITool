{
 "cells": [
  {
   "cell_type": "markdown",
   "id": "cae25198",
   "metadata": {},
   "source": [
    "# OS Fingerprinting based on ML and p0f dataset"
   ]
  },
  {
   "cell_type": "code",
   "execution_count": 1,
   "id": "0c94776a",
   "metadata": {},
   "outputs": [],
   "source": [
    "import numpy as np\n",
    "import pandas as pd\n",
    "import p0f_db_parser as parser"
   ]
  },
  {
   "cell_type": "code",
   "execution_count": 2,
   "id": "e320052a",
   "metadata": {},
   "outputs": [],
   "source": [
    "seed = 42\n",
    "np.random.seed(seed)"
   ]
  },
  {
   "cell_type": "markdown",
   "id": "35bb270d",
   "metadata": {},
   "source": [
    "### Parse database and import dataset"
   ]
  },
  {
   "cell_type": "code",
   "execution_count": 3,
   "id": "9ba34d95",
   "metadata": {},
   "outputs": [],
   "source": [
    "dataset,column_names = parser.parse_database(\"p0f.fp\")\n",
    "df = pd.DataFrame(dataset,columns=column_names)"
   ]
  },
  {
   "cell_type": "markdown",
   "id": "c779c695",
   "metadata": {},
   "source": [
    "### Explore dataset"
   ]
  },
  {
   "cell_type": "code",
   "execution_count": 4,
   "id": "41ab8755",
   "metadata": {},
   "outputs": [
    {
     "name": "stdout",
     "output_type": "stream",
     "text": [
      "Initial dataset\n"
     ]
    },
    {
     "data": {
      "text/html": [
       "<div>\n",
       "<style scoped>\n",
       "    .dataframe tbody tr th:only-of-type {\n",
       "        vertical-align: middle;\n",
       "    }\n",
       "\n",
       "    .dataframe tbody tr th {\n",
       "        vertical-align: top;\n",
       "    }\n",
       "\n",
       "    .dataframe thead th {\n",
       "        text-align: right;\n",
       "    }\n",
       "</style>\n",
       "<table border=\"1\" class=\"dataframe\">\n",
       "  <thead>\n",
       "    <tr style=\"text-align: right;\">\n",
       "      <th></th>\n",
       "      <th>sig_direction</th>\n",
       "      <th>os</th>\n",
       "      <th>version</th>\n",
       "      <th>initial_ttl</th>\n",
       "      <th>mss</th>\n",
       "      <th>window_size</th>\n",
       "      <th>window_scaling</th>\n",
       "      <th>tcp_options</th>\n",
       "      <th>quirk_df</th>\n",
       "      <th>quirk_id</th>\n",
       "      <th>quirk_ts</th>\n",
       "    </tr>\n",
       "  </thead>\n",
       "  <tbody>\n",
       "    <tr>\n",
       "      <th>0</th>\n",
       "      <td>request</td>\n",
       "      <td>Linux</td>\n",
       "      <td>3.11 and newer</td>\n",
       "      <td>64</td>\n",
       "      <td>*</td>\n",
       "      <td>mss*20</td>\n",
       "      <td>10</td>\n",
       "      <td>mss,sok,ts,nop,ws</td>\n",
       "      <td>1</td>\n",
       "      <td>1</td>\n",
       "      <td>0</td>\n",
       "    </tr>\n",
       "    <tr>\n",
       "      <th>1</th>\n",
       "      <td>request</td>\n",
       "      <td>Linux</td>\n",
       "      <td>3.11 and newer</td>\n",
       "      <td>64</td>\n",
       "      <td>*</td>\n",
       "      <td>mss*20</td>\n",
       "      <td>7</td>\n",
       "      <td>mss,sok,ts,nop,ws</td>\n",
       "      <td>1</td>\n",
       "      <td>1</td>\n",
       "      <td>0</td>\n",
       "    </tr>\n",
       "    <tr>\n",
       "      <th>2</th>\n",
       "      <td>request</td>\n",
       "      <td>Linux</td>\n",
       "      <td>3.1-3.10</td>\n",
       "      <td>64</td>\n",
       "      <td>*</td>\n",
       "      <td>mss*10</td>\n",
       "      <td>4</td>\n",
       "      <td>mss,sok,ts,nop,ws</td>\n",
       "      <td>1</td>\n",
       "      <td>1</td>\n",
       "      <td>0</td>\n",
       "    </tr>\n",
       "    <tr>\n",
       "      <th>3</th>\n",
       "      <td>request</td>\n",
       "      <td>Linux</td>\n",
       "      <td>3.1-3.10</td>\n",
       "      <td>64</td>\n",
       "      <td>*</td>\n",
       "      <td>mss*10</td>\n",
       "      <td>5</td>\n",
       "      <td>mss,sok,ts,nop,ws</td>\n",
       "      <td>1</td>\n",
       "      <td>1</td>\n",
       "      <td>0</td>\n",
       "    </tr>\n",
       "    <tr>\n",
       "      <th>4</th>\n",
       "      <td>request</td>\n",
       "      <td>Linux</td>\n",
       "      <td>3.1-3.10</td>\n",
       "      <td>64</td>\n",
       "      <td>*</td>\n",
       "      <td>mss*10</td>\n",
       "      <td>6</td>\n",
       "      <td>mss,sok,ts,nop,ws</td>\n",
       "      <td>1</td>\n",
       "      <td>1</td>\n",
       "      <td>0</td>\n",
       "    </tr>\n",
       "  </tbody>\n",
       "</table>\n",
       "</div>"
      ],
      "text/plain": [
       "  sig_direction     os         version  initial_ttl mss window_size  \\\n",
       "0       request  Linux  3.11 and newer           64   *      mss*20   \n",
       "1       request  Linux  3.11 and newer           64   *      mss*20   \n",
       "2       request  Linux        3.1-3.10           64   *      mss*10   \n",
       "3       request  Linux        3.1-3.10           64   *      mss*10   \n",
       "4       request  Linux        3.1-3.10           64   *      mss*10   \n",
       "\n",
       "  window_scaling        tcp_options  quirk_df  quirk_id  quirk_ts  \n",
       "0             10  mss,sok,ts,nop,ws         1         1         0  \n",
       "1              7  mss,sok,ts,nop,ws         1         1         0  \n",
       "2              4  mss,sok,ts,nop,ws         1         1         0  \n",
       "3              5  mss,sok,ts,nop,ws         1         1         0  \n",
       "4              6  mss,sok,ts,nop,ws         1         1         0  "
      ]
     },
     "execution_count": 4,
     "metadata": {},
     "output_type": "execute_result"
    }
   ],
   "source": [
    "print(\"Initial dataset\")\n",
    "df.head()"
   ]
  },
  {
   "cell_type": "code",
   "execution_count": 5,
   "id": "cb052282",
   "metadata": {},
   "outputs": [],
   "source": [
    "def DataCheckings(df):\n",
    "    # Check the number of data points in the data set\n",
    "    print(\"\\nData points =\", len(df))\n",
    "    \n",
    "    # Check the number of columns in the data set\n",
    "    print(\"\\nColumns (output + features)=\",len(df.columns))\n",
    "    \n",
    "    # Check the data types\n",
    "    print(\"\\nData types =\", df.dtypes.unique())\n",
    "\n",
    "    # Check the number of duplicates\n",
    "    print(\"Number of duplicates: \", df.duplicated().sum())\n",
    "\n",
    "    # Dataset statistics\n",
    "    print('\\n')\n",
    "    df.describe()\n",
    "    \n",
    "    # print names of columns\n",
    "    print('Column Names:\\n', df.columns)\n",
    "    \n",
    "    # see if there are categorical data\n",
    "    print(\"\\nCategorical features:\", df.select_dtypes(include=['O']).columns.tolist())\n",
    "    \n",
    "    # Check NA values\n",
    "    # Check any number of columns with NaN\n",
    "    print(\"\\nColumns with NaN: \", df.isnull().any().sum(), ' / ', len(df.columns))\n",
    "\n",
    "    # Check any number of data points with NaN\n",
    "    print(\"\\nNumber of data points with NaN:\", df.isnull().any(axis=1).sum(), ' / ', len(df))\n",
    "    \n",
    "    # List of values per column\n",
    "    print()\n",
    "    for column in df.columns:\n",
    "        print(column + \" -> \")\n",
    "        print(df[column].value_counts())\n",
    "        print()"
   ]
  },
  {
   "cell_type": "code",
   "execution_count": 6,
   "id": "36ab0d48",
   "metadata": {},
   "outputs": [
    {
     "name": "stdout",
     "output_type": "stream",
     "text": [
      "\n",
      "Data points = 180\n",
      "\n",
      "Columns (output + features)= 11\n",
      "\n",
      "Data types = [dtype('O') dtype('int64')]\n",
      "Number of duplicates:  0\n",
      "\n",
      "\n",
      "Column Names:\n",
      " Index(['sig_direction', 'os', 'version', 'initial_ttl', 'mss', 'window_size',\n",
      "       'window_scaling', 'tcp_options', 'quirk_df', 'quirk_id', 'quirk_ts'],\n",
      "      dtype='object')\n",
      "\n",
      "Categorical features: ['sig_direction', 'os', 'version', 'mss', 'window_size', 'window_scaling', 'tcp_options']\n",
      "\n",
      "Columns with NaN:  0  /  11\n",
      "\n",
      "Number of data points with NaN: 0  /  180\n",
      "\n",
      "sig_direction -> \n",
      "response    101\n",
      "request      79\n",
      "Name: sig_direction, dtype: int64\n",
      "\n",
      "os -> \n",
      "Linux          51\n",
      "Windows        43\n",
      "Solaris        22\n",
      "FreeBSD        14\n",
      "Mac OS X       11\n",
      "OpenBSD         9\n",
      "p0f             8\n",
      "HP-UX           8\n",
      "OpenVMS         4\n",
      "Tru64           3\n",
      "Nintendo        2\n",
      "BaiduSpider     2\n",
      "iOS             1\n",
      "NeXTSTEP        1\n",
      "Blackberry      1\n",
      "Name: os, dtype: int64\n",
      "\n",
      "version -> \n",
      "XP                                          21\n",
      "7 or 8                                      12\n",
      "3.x                                         10\n",
      "10                                           9\n",
      "10.x                                         9\n",
      "8                                            9\n",
      "11.x                                         8\n",
      "sendsyn utility                              8\n",
      "2.6.x                                        7\n",
      "2.4.x                                        7\n",
      "5.x                                          7\n",
      "                                             6\n",
      "8.x                                          6\n",
      "NT kernel 5.x                                4\n",
      "3.1-3.10                                     4\n",
      "2.4-2.6                                      4\n",
      "9.x                                          4\n",
      "6                                            4\n",
      "7.x                                          3\n",
      "8.x-9.x                                      3\n",
      "2.2.x                                        3\n",
      "4.x                                          3\n",
      "3.11 and newer                               2\n",
      "NT kernel                                    2\n",
      "2.6.x (loopback)                             2\n",
      "2.0                                          2\n",
      "3.x (loopback)                               2\n",
      "(Android)                                    2\n",
      "7 (Websense crawler)                         2\n",
      "NT kernel 6.x                                2\n",
      "2.2.x-3.x (barebone)                         1\n",
      "4.x-5.x                                      1\n",
      "2.2.x-3.x (no timestamps)                    1\n",
      "2.2.x-3.x                                    1\n",
      "2.4.x-2.6.x                                  1\n",
      "10.9 or newer (sometimes iPhone or iPad)     1\n",
      "2.6.x (Google crawler)                       1\n",
      "3DS                                          1\n",
      "Wii                                          1\n",
      "2.2.x (loopback)                             1\n",
      "2.4.x (loopback)                             1\n",
      "9.x or newer                                 1\n",
      "iPhone or iPad                               1\n",
      "Name: version, dtype: int64\n",
      "\n",
      "initial_ttl -> \n",
      "64     125\n",
      "128     43\n",
      "192      8\n",
      "255      4\n",
      "Name: initial_ttl, dtype: int64\n",
      "\n",
      "mss -> \n",
      "*        143\n",
      "1460      17\n",
      "1331       8\n",
      "16396      3\n",
      "16376      2\n",
      "1380       2\n",
      "3884       1\n",
      "1430       1\n",
      "1024       1\n",
      "1452       1\n",
      "1360       1\n",
      "Name: mss, dtype: int64\n",
      "\n",
      "window_size -> \n",
      "65535     41\n",
      "mss*4     25\n",
      "16384     21\n",
      "8192      14\n",
      "mss*10    13\n",
      "32768     11\n",
      "mss*37     8\n",
      "mss*19     8\n",
      "1337       8\n",
      "mss*2      5\n",
      "*          5\n",
      "mss*7      4\n",
      "mss*20     3\n",
      "mss*44     2\n",
      "3993       2\n",
      "mss*25     2\n",
      "32850      1\n",
      "mss*34     1\n",
      "mtu*2      1\n",
      "61440      1\n",
      "mss*8      1\n",
      "mss*12     1\n",
      "mss*22     1\n",
      "mss*11     1\n",
      "Name: window_size, dtype: int64\n",
      "\n",
      "window_scaling -> \n",
      "0     103\n",
      "*      22\n",
      "3      12\n",
      "6       9\n",
      "2       8\n",
      "8       6\n",
      "7       5\n",
      "5       5\n",
      "1       5\n",
      "4       4\n",
      "10      1\n",
      "Name: window_scaling, dtype: int64\n",
      "\n",
      "tcp_options -> \n",
      "mss,sok,ts,nop,ws                                         30\n",
      "mss,nop,nop,sok                                           17\n",
      "mss,nop,ws                                                16\n",
      "mss                                                       15\n",
      "mss,nop,ws,nop,nop,sok                                    14\n",
      "mss,nop,nop,ts                                             9\n",
      "mss,nop,ws,sok,ts                                          7\n",
      "mss,nop,ws,nop,nop,ts                                      7\n",
      "mss,nop,ws,nop,nop,ts,sok,eol+1                            6\n",
      "mss,nop,nop,sok,nop,ws                                     5\n",
      "mss,nop,nop,ts,nop,ws                                      5\n",
      "mss,sok,ts                                                 4\n",
      "mss,nop,nop,sok,nop,ws,nop,nop,ts                          3\n",
      "nop,nop,ts,mss                                             3\n",
      "mss,nop,ws,sok,eol+1                                       3\n",
      "mss,nop,nop,sok,nop,nop,ts                                 3\n",
      "mss,sok,eol+1                                              2\n",
      "nop,ws,mss                                                 2\n",
      "mss,nop,ws,nop,nop,ts,nop,nop,sok                          2\n",
      "mss,nop,nop,ts,nop,nop,sok                                 2\n",
      "nop,nop,ts,nop,ws,mss                                      2\n",
      "mss,sok,nop,nop,nop,nop,nop,nop,nop,nop,nop,nop,nop,ws     2\n",
      "nop,nop,ts,mss,nop,ws                                      1\n",
      "nop,nop,sok,mss                                            1\n",
      "nop,nop,ts,mss,nop,nop,sok                                 1\n",
      "nop,nop,ts,mss,nop,ws,nop,nop,sok                          1\n",
      "mss,ws,nop                                                 1\n",
      "nop,nop,ts,nop,nop,sok,mss                                 1\n",
      "nop,ws,nop,nop,sok,mss                                     1\n",
      "mss,ws,nop,nop,nop,ts                                      1\n",
      "mss,nop,nop,sok,ws,nop                                     1\n",
      "nop,nop,ts,nop,ws,nop,nop,sok,mss                          1\n",
      "mss,ts,nop,eol+8                                           1\n",
      "mss,nop,nop,ts,sok,eol+1                                   1\n",
      "mss,ws,nop,eol+15                                          1\n",
      "nop,ws,nop,nop,ts,nop,nop,sok,mss                          1\n",
      "mss,nop,eol+18                                             1\n",
      "mss,ws,sok,ts,nop,eol+3                                    1\n",
      "mss,ws,sok,nop,eol+13                                      1\n",
      "mss,sok,ts,nop,eol+6                                       1\n",
      "mss,ws,ts,nop,eol+5                                        1\n",
      "mss,sok,nop,eol+16                                         1\n",
      "mss,nop,nop,sok,ws,nop,nop,nop,ts                          1\n",
      "Name: tcp_options, dtype: int64\n",
      "\n",
      "quirk_df -> \n",
      "1    163\n",
      "0     17\n",
      "Name: quirk_df, dtype: int64\n",
      "\n",
      "quirk_id -> \n",
      "1    143\n",
      "0     37\n",
      "Name: quirk_id, dtype: int64\n",
      "\n",
      "quirk_ts -> \n",
      "0    172\n",
      "1      8\n",
      "Name: quirk_ts, dtype: int64\n",
      "\n"
     ]
    }
   ],
   "source": [
    "DataCheckings(df)"
   ]
  },
  {
   "cell_type": "code",
   "execution_count": 7,
   "id": "0be92502",
   "metadata": {},
   "outputs": [
    {
     "name": "stdout",
     "output_type": "stream",
     "text": [
      "Number of duplicates:  0\n"
     ]
    }
   ],
   "source": [
    "# Checking duplicates\n",
    "\n",
    "print(\"Number of duplicates: \", df.duplicated().sum())"
   ]
  },
  {
   "cell_type": "markdown",
   "id": "967b6ddb",
   "metadata": {},
   "source": [
    "### Encoding of the dataset"
   ]
  },
  {
   "cell_type": "code",
   "execution_count": 1,
   "id": "cfac79f5",
   "metadata": {},
   "outputs": [
    {
     "ename": "ModuleNotFoundError",
     "evalue": "No module named 'ai_model_creation'",
     "output_type": "error",
     "traceback": [
      "\u001b[1;31m---------------------------------------------------------------------------\u001b[0m",
      "\u001b[1;31mModuleNotFoundError\u001b[0m                       Traceback (most recent call last)",
      "Cell \u001b[1;32mIn[1], line 7\u001b[0m\n\u001b[0;32m      5\u001b[0m \u001b[39mfrom\u001b[39;00m \u001b[39msklearn\u001b[39;00m\u001b[39m.\u001b[39;00m\u001b[39mbase\u001b[39;00m \u001b[39mimport\u001b[39;00m BaseEstimator\n\u001b[0;32m      6\u001b[0m \u001b[39mfrom\u001b[39;00m \u001b[39msklearn\u001b[39;00m\u001b[39m.\u001b[39;00m\u001b[39mbase\u001b[39;00m \u001b[39mimport\u001b[39;00m TransformerMixin\n\u001b[1;32m----> 7\u001b[0m \u001b[39mimport\u001b[39;00m \u001b[39mai_model_creation\u001b[39;00m\u001b[39m.\u001b[39;00m\u001b[39mai_p0f_model_creation\u001b[39;00m\u001b[39m.\u001b[39;00m\u001b[39mtransformers\u001b[39;00m \u001b[39mas\u001b[39;00m \u001b[39mtr\u001b[39;00m\n",
      "\u001b[1;31mModuleNotFoundError\u001b[0m: No module named 'ai_model_creation'"
     ]
    }
   ],
   "source": [
    "# Imports\n",
    "from sklearn.model_selection import train_test_split\n",
    "from sklearn.preprocessing import OneHotEncoder\n",
    "from sklearn.preprocessing import MinMaxScaler\n",
    "from sklearn.base import BaseEstimator\n",
    "from sklearn.base import TransformerMixin\n",
    "import ai_model_creation.ai_p0f_model_creation.transformers as tr"
   ]
  },
  {
   "cell_type": "markdown",
   "id": "6e63c499",
   "metadata": {},
   "source": [
    "#### Filter Operating Systems"
   ]
  },
  {
   "cell_type": "code",
   "execution_count": 9,
   "id": "d122966d",
   "metadata": {},
   "outputs": [],
   "source": [
    "# Filter OSes\n",
    "df = df[df.os.isin(['Linux', 'Windows', 'Mac OS X', 'Solaris', 'OpenBSD', 'FreeBSD'])]\n",
    "df.replace({'os': {'FreeBSD': 'BSD', 'OpenBSD': 'BSD'}}, inplace=True)\n",
    "\n",
    "df.reset_index(inplace=True, drop=True)\n",
    "\n",
    "# Drop version column\n",
    "df.drop([\"version\",\"sig_direction\"], inplace=True, axis=1)"
   ]
  },
  {
   "cell_type": "code",
   "execution_count": 10,
   "id": "51f186fd",
   "metadata": {},
   "outputs": [
    {
     "name": "stdout",
     "output_type": "stream",
     "text": [
      "<class 'pandas.core.frame.DataFrame'>\n",
      "RangeIndex: 150 entries, 0 to 149\n",
      "Data columns (total 9 columns):\n",
      " #   Column          Non-Null Count  Dtype \n",
      "---  ------          --------------  ----- \n",
      " 0   os              150 non-null    object\n",
      " 1   initial_ttl     150 non-null    int64 \n",
      " 2   mss             150 non-null    object\n",
      " 3   window_size     150 non-null    object\n",
      " 4   window_scaling  150 non-null    object\n",
      " 5   tcp_options     150 non-null    object\n",
      " 6   quirk_df        150 non-null    int64 \n",
      " 7   quirk_id        150 non-null    int64 \n",
      " 8   quirk_ts        150 non-null    int64 \n",
      "dtypes: int64(4), object(5)\n",
      "memory usage: 10.7+ KB\n"
     ]
    }
   ],
   "source": [
    "df.info()"
   ]
  },
  {
   "cell_type": "markdown",
   "id": "ce91905e",
   "metadata": {},
   "source": [
    "#### Data Augmentation"
   ]
  },
  {
   "cell_type": "code",
   "execution_count": 11,
   "id": "e432aa5c",
   "metadata": {},
   "outputs": [],
   "source": [
    "# Data Augmentation\n",
    "# TTL, MSS & Windows size\n",
    "\n",
    "ttl_factor = 10\n",
    "\n",
    "array = df.to_numpy()\n",
    "ttl_i = df.columns.get_loc('initial_ttl')\n",
    "\n",
    "for row in array:\n",
    "    for i in range(1,ttl_factor+1):\n",
    "        new_row = row.copy()\n",
    "        new_row[ttl_i] = row[ttl_i] - i\n",
    "        \n",
    "        array = np.vstack((array, new_row))\n",
    "        \n",
    "df = pd.DataFrame(array, columns = df.columns)"
   ]
  },
  {
   "cell_type": "markdown",
   "id": "746f18ef",
   "metadata": {},
   "source": [
    "#### TTL"
   ]
  },
  {
   "cell_type": "code",
   "execution_count": 12,
   "id": "24a6b739",
   "metadata": {
    "tags": []
   },
   "outputs": [],
   "source": [
    "# TTL\n",
    "# Numeric value\n",
    "\n",
    "encoder_ttl = MinMaxScaler()"
   ]
  },
  {
   "cell_type": "markdown",
   "id": "7d7e09dd",
   "metadata": {},
   "source": [
    "#### MSS"
   ]
  },
  {
   "cell_type": "code",
   "execution_count": 13,
   "id": "00bd8cb0",
   "metadata": {
    "tags": []
   },
   "outputs": [],
   "source": [
    "# MSS\n",
    "# Categorical encoding\n",
    "\n",
    "# encoder_mss = OneHotEncoder(drop=['*'], sparse=False, handle_unknown='ignore')\n",
    "df.drop('mss', inplace=True, axis=1)"
   ]
  },
  {
   "cell_type": "markdown",
   "id": "1c3c7abd",
   "metadata": {},
   "source": [
    "#### Window Size"
   ]
  },
  {
   "cell_type": "code",
   "execution_count": 14,
   "id": "e387659e",
   "metadata": {},
   "outputs": [],
   "source": [
    "# Window Size\n",
    "\n",
    "# encoder_window_size = tr.WindowSizeTransformer()\n",
    "df.drop('window_size', inplace=True, axis=1)"
   ]
  },
  {
   "cell_type": "markdown",
   "id": "ac872d9d",
   "metadata": {},
   "source": [
    "#### Windows Scaling"
   ]
  },
  {
   "cell_type": "code",
   "execution_count": 15,
   "id": "86414ee7",
   "metadata": {},
   "outputs": [],
   "source": [
    "# Window Scaling \n",
    "# Categorical encoding\n",
    "\n",
    "encoder_window_scaling = OneHotEncoder(drop=['*'], sparse_output=False, handle_unknown='ignore')"
   ]
  },
  {
   "cell_type": "markdown",
   "id": "9ed765f3",
   "metadata": {},
   "source": [
    "#### TCP options"
   ]
  },
  {
   "cell_type": "code",
   "execution_count": 16,
   "id": "9bd4c622",
   "metadata": {},
   "outputs": [],
   "source": [
    "# TCP Options\n",
    "# Custom transformer\n",
    "\n",
    "encoder_tcp_options = tr.TCPOptionsTransformer()\n"
   ]
  },
  {
   "cell_type": "markdown",
   "id": "808d48d9",
   "metadata": {},
   "source": [
    "#### Quirks"
   ]
  },
  {
   "cell_type": "code",
   "execution_count": 17,
   "id": "c78c31f7",
   "metadata": {},
   "outputs": [],
   "source": [
    "# Quirks\n",
    "# Categorical encoding (already encoded)"
   ]
  },
  {
   "cell_type": "markdown",
   "id": "8ddfb41b",
   "metadata": {},
   "source": [
    "#### Applying encodings"
   ]
  },
  {
   "cell_type": "code",
   "execution_count": 18,
   "id": "6fa1e511",
   "metadata": {},
   "outputs": [],
   "source": [
    "# Apply encodings\n",
    "\n",
    "from sklearn.compose import make_column_transformer\n",
    "\n",
    "df.reset_index(inplace=True, drop=True)\n",
    "\n",
    "encoders = make_column_transformer(\n",
    "    (encoder_ttl, ['initial_ttl']),\n",
    "    (encoder_window_scaling, ['window_scaling']),\n",
    "    (encoder_tcp_options, ['tcp_options']),\n",
    "    remainder='passthrough',\n",
    "    verbose_feature_names_out=False)\n",
    "\n",
    "transformed = encoders.fit_transform(df)\n",
    "transformed_df = pd.DataFrame(\n",
    "    transformed,\n",
    "    columns=encoders.get_feature_names_out()\n",
    ")\n",
    "\n",
    "df = transformed_df\n",
    "\n",
    "# define output variable name\n",
    "OutVar = df.os.name"
   ]
  },
  {
   "cell_type": "code",
   "execution_count": 19,
   "id": "b02367b8",
   "metadata": {},
   "outputs": [
    {
     "data": {
      "text/html": [
       "<div>\n",
       "<style scoped>\n",
       "    .dataframe tbody tr th:only-of-type {\n",
       "        vertical-align: middle;\n",
       "    }\n",
       "\n",
       "    .dataframe tbody tr th {\n",
       "        vertical-align: top;\n",
       "    }\n",
       "\n",
       "    .dataframe thead th {\n",
       "        text-align: right;\n",
       "    }\n",
       "</style>\n",
       "<table border=\"1\" class=\"dataframe\">\n",
       "  <thead>\n",
       "    <tr style=\"text-align: right;\">\n",
       "      <th></th>\n",
       "      <th>initial_ttl</th>\n",
       "      <th>window_scaling_0</th>\n",
       "      <th>window_scaling_1</th>\n",
       "      <th>window_scaling_10</th>\n",
       "      <th>window_scaling_2</th>\n",
       "      <th>window_scaling_3</th>\n",
       "      <th>window_scaling_4</th>\n",
       "      <th>window_scaling_5</th>\n",
       "      <th>window_scaling_6</th>\n",
       "      <th>window_scaling_7</th>\n",
       "      <th>...</th>\n",
       "      <th>tcp_options8_mss</th>\n",
       "      <th>tcp_options8_sok</th>\n",
       "      <th>tcp_options8_ts</th>\n",
       "      <th>tcp_options8_nop</th>\n",
       "      <th>tcp_options8_ws</th>\n",
       "      <th>tcp_options8_eol+1</th>\n",
       "      <th>os</th>\n",
       "      <th>quirk_df</th>\n",
       "      <th>quirk_id</th>\n",
       "      <th>quirk_ts</th>\n",
       "    </tr>\n",
       "  </thead>\n",
       "  <tbody>\n",
       "    <tr>\n",
       "      <th>0</th>\n",
       "      <td>0.049751</td>\n",
       "      <td>0.0</td>\n",
       "      <td>0.0</td>\n",
       "      <td>1.0</td>\n",
       "      <td>0.0</td>\n",
       "      <td>0.0</td>\n",
       "      <td>0.0</td>\n",
       "      <td>0.0</td>\n",
       "      <td>0.0</td>\n",
       "      <td>0.0</td>\n",
       "      <td>...</td>\n",
       "      <td>0.0</td>\n",
       "      <td>0.0</td>\n",
       "      <td>0.0</td>\n",
       "      <td>0.0</td>\n",
       "      <td>0.0</td>\n",
       "      <td>0.0</td>\n",
       "      <td>Linux</td>\n",
       "      <td>1</td>\n",
       "      <td>1</td>\n",
       "      <td>0</td>\n",
       "    </tr>\n",
       "    <tr>\n",
       "      <th>1</th>\n",
       "      <td>0.049751</td>\n",
       "      <td>0.0</td>\n",
       "      <td>0.0</td>\n",
       "      <td>0.0</td>\n",
       "      <td>0.0</td>\n",
       "      <td>0.0</td>\n",
       "      <td>0.0</td>\n",
       "      <td>0.0</td>\n",
       "      <td>0.0</td>\n",
       "      <td>1.0</td>\n",
       "      <td>...</td>\n",
       "      <td>0.0</td>\n",
       "      <td>0.0</td>\n",
       "      <td>0.0</td>\n",
       "      <td>0.0</td>\n",
       "      <td>0.0</td>\n",
       "      <td>0.0</td>\n",
       "      <td>Linux</td>\n",
       "      <td>1</td>\n",
       "      <td>1</td>\n",
       "      <td>0</td>\n",
       "    </tr>\n",
       "    <tr>\n",
       "      <th>2</th>\n",
       "      <td>0.049751</td>\n",
       "      <td>0.0</td>\n",
       "      <td>0.0</td>\n",
       "      <td>0.0</td>\n",
       "      <td>0.0</td>\n",
       "      <td>0.0</td>\n",
       "      <td>1.0</td>\n",
       "      <td>0.0</td>\n",
       "      <td>0.0</td>\n",
       "      <td>0.0</td>\n",
       "      <td>...</td>\n",
       "      <td>0.0</td>\n",
       "      <td>0.0</td>\n",
       "      <td>0.0</td>\n",
       "      <td>0.0</td>\n",
       "      <td>0.0</td>\n",
       "      <td>0.0</td>\n",
       "      <td>Linux</td>\n",
       "      <td>1</td>\n",
       "      <td>1</td>\n",
       "      <td>0</td>\n",
       "    </tr>\n",
       "    <tr>\n",
       "      <th>3</th>\n",
       "      <td>0.049751</td>\n",
       "      <td>0.0</td>\n",
       "      <td>0.0</td>\n",
       "      <td>0.0</td>\n",
       "      <td>0.0</td>\n",
       "      <td>0.0</td>\n",
       "      <td>0.0</td>\n",
       "      <td>1.0</td>\n",
       "      <td>0.0</td>\n",
       "      <td>0.0</td>\n",
       "      <td>...</td>\n",
       "      <td>0.0</td>\n",
       "      <td>0.0</td>\n",
       "      <td>0.0</td>\n",
       "      <td>0.0</td>\n",
       "      <td>0.0</td>\n",
       "      <td>0.0</td>\n",
       "      <td>Linux</td>\n",
       "      <td>1</td>\n",
       "      <td>1</td>\n",
       "      <td>0</td>\n",
       "    </tr>\n",
       "    <tr>\n",
       "      <th>4</th>\n",
       "      <td>0.049751</td>\n",
       "      <td>0.0</td>\n",
       "      <td>0.0</td>\n",
       "      <td>0.0</td>\n",
       "      <td>0.0</td>\n",
       "      <td>0.0</td>\n",
       "      <td>0.0</td>\n",
       "      <td>0.0</td>\n",
       "      <td>1.0</td>\n",
       "      <td>0.0</td>\n",
       "      <td>...</td>\n",
       "      <td>0.0</td>\n",
       "      <td>0.0</td>\n",
       "      <td>0.0</td>\n",
       "      <td>0.0</td>\n",
       "      <td>0.0</td>\n",
       "      <td>0.0</td>\n",
       "      <td>Linux</td>\n",
       "      <td>1</td>\n",
       "      <td>1</td>\n",
       "      <td>0</td>\n",
       "    </tr>\n",
       "  </tbody>\n",
       "</table>\n",
       "<p>5 rows × 69 columns</p>\n",
       "</div>"
      ],
      "text/plain": [
       "  initial_ttl window_scaling_0 window_scaling_1 window_scaling_10  \\\n",
       "0    0.049751              0.0              0.0               1.0   \n",
       "1    0.049751              0.0              0.0               0.0   \n",
       "2    0.049751              0.0              0.0               0.0   \n",
       "3    0.049751              0.0              0.0               0.0   \n",
       "4    0.049751              0.0              0.0               0.0   \n",
       "\n",
       "  window_scaling_2 window_scaling_3 window_scaling_4 window_scaling_5  \\\n",
       "0              0.0              0.0              0.0              0.0   \n",
       "1              0.0              0.0              0.0              0.0   \n",
       "2              0.0              0.0              1.0              0.0   \n",
       "3              0.0              0.0              0.0              1.0   \n",
       "4              0.0              0.0              0.0              0.0   \n",
       "\n",
       "  window_scaling_6 window_scaling_7  ... tcp_options8_mss tcp_options8_sok  \\\n",
       "0              0.0              0.0  ...              0.0              0.0   \n",
       "1              0.0              1.0  ...              0.0              0.0   \n",
       "2              0.0              0.0  ...              0.0              0.0   \n",
       "3              0.0              0.0  ...              0.0              0.0   \n",
       "4              1.0              0.0  ...              0.0              0.0   \n",
       "\n",
       "  tcp_options8_ts tcp_options8_nop tcp_options8_ws tcp_options8_eol+1     os  \\\n",
       "0             0.0              0.0             0.0                0.0  Linux   \n",
       "1             0.0              0.0             0.0                0.0  Linux   \n",
       "2             0.0              0.0             0.0                0.0  Linux   \n",
       "3             0.0              0.0             0.0                0.0  Linux   \n",
       "4             0.0              0.0             0.0                0.0  Linux   \n",
       "\n",
       "  quirk_df quirk_id quirk_ts  \n",
       "0        1        1        0  \n",
       "1        1        1        0  \n",
       "2        1        1        0  \n",
       "3        1        1        0  \n",
       "4        1        1        0  \n",
       "\n",
       "[5 rows x 69 columns]"
      ]
     },
     "execution_count": 19,
     "metadata": {},
     "output_type": "execute_result"
    }
   ],
   "source": [
    "df.head()"
   ]
  },
  {
   "cell_type": "code",
   "execution_count": 20,
   "id": "7c86bdc8",
   "metadata": {},
   "outputs": [
    {
     "name": "stdout",
     "output_type": "stream",
     "text": [
      "\n",
      "Data points = 1650\n",
      "\n",
      "Columns (output + features)= 69\n",
      "\n",
      "Data types = [dtype('O')]\n",
      "Number of duplicates:  605\n",
      "\n",
      "\n",
      "Column Names:\n",
      " Index(['initial_ttl', 'window_scaling_0', 'window_scaling_1',\n",
      "       'window_scaling_10', 'window_scaling_2', 'window_scaling_3',\n",
      "       'window_scaling_4', 'window_scaling_5', 'window_scaling_6',\n",
      "       'window_scaling_7', 'window_scaling_8', 'tcp_options0_mss',\n",
      "       'tcp_options0_sok', 'tcp_options0_ts', 'tcp_options0_nop',\n",
      "       'tcp_options0_ws', 'tcp_options0_eol+1', 'tcp_options1_mss',\n",
      "       'tcp_options1_sok', 'tcp_options1_ts', 'tcp_options1_nop',\n",
      "       'tcp_options1_ws', 'tcp_options1_eol+1', 'tcp_options2_mss',\n",
      "       'tcp_options2_sok', 'tcp_options2_ts', 'tcp_options2_nop',\n",
      "       'tcp_options2_ws', 'tcp_options2_eol+1', 'tcp_options3_mss',\n",
      "       'tcp_options3_sok', 'tcp_options3_ts', 'tcp_options3_nop',\n",
      "       'tcp_options3_ws', 'tcp_options3_eol+1', 'tcp_options4_mss',\n",
      "       'tcp_options4_sok', 'tcp_options4_ts', 'tcp_options4_nop',\n",
      "       'tcp_options4_ws', 'tcp_options4_eol+1', 'tcp_options5_mss',\n",
      "       'tcp_options5_sok', 'tcp_options5_ts', 'tcp_options5_nop',\n",
      "       'tcp_options5_ws', 'tcp_options5_eol+1', 'tcp_options6_mss',\n",
      "       'tcp_options6_sok', 'tcp_options6_ts', 'tcp_options6_nop',\n",
      "       'tcp_options6_ws', 'tcp_options6_eol+1', 'tcp_options7_mss',\n",
      "       'tcp_options7_sok', 'tcp_options7_ts', 'tcp_options7_nop',\n",
      "       'tcp_options7_ws', 'tcp_options7_eol+1', 'tcp_options8_mss',\n",
      "       'tcp_options8_sok', 'tcp_options8_ts', 'tcp_options8_nop',\n",
      "       'tcp_options8_ws', 'tcp_options8_eol+1', 'os', 'quirk_df', 'quirk_id',\n",
      "       'quirk_ts'],\n",
      "      dtype='object')\n",
      "\n",
      "Categorical features: ['initial_ttl', 'window_scaling_0', 'window_scaling_1', 'window_scaling_10', 'window_scaling_2', 'window_scaling_3', 'window_scaling_4', 'window_scaling_5', 'window_scaling_6', 'window_scaling_7', 'window_scaling_8', 'tcp_options0_mss', 'tcp_options0_sok', 'tcp_options0_ts', 'tcp_options0_nop', 'tcp_options0_ws', 'tcp_options0_eol+1', 'tcp_options1_mss', 'tcp_options1_sok', 'tcp_options1_ts', 'tcp_options1_nop', 'tcp_options1_ws', 'tcp_options1_eol+1', 'tcp_options2_mss', 'tcp_options2_sok', 'tcp_options2_ts', 'tcp_options2_nop', 'tcp_options2_ws', 'tcp_options2_eol+1', 'tcp_options3_mss', 'tcp_options3_sok', 'tcp_options3_ts', 'tcp_options3_nop', 'tcp_options3_ws', 'tcp_options3_eol+1', 'tcp_options4_mss', 'tcp_options4_sok', 'tcp_options4_ts', 'tcp_options4_nop', 'tcp_options4_ws', 'tcp_options4_eol+1', 'tcp_options5_mss', 'tcp_options5_sok', 'tcp_options5_ts', 'tcp_options5_nop', 'tcp_options5_ws', 'tcp_options5_eol+1', 'tcp_options6_mss', 'tcp_options6_sok', 'tcp_options6_ts', 'tcp_options6_nop', 'tcp_options6_ws', 'tcp_options6_eol+1', 'tcp_options7_mss', 'tcp_options7_sok', 'tcp_options7_ts', 'tcp_options7_nop', 'tcp_options7_ws', 'tcp_options7_eol+1', 'tcp_options8_mss', 'tcp_options8_sok', 'tcp_options8_ts', 'tcp_options8_nop', 'tcp_options8_ws', 'tcp_options8_eol+1', 'os', 'quirk_df', 'quirk_id', 'quirk_ts']\n",
      "\n",
      "Columns with NaN:  0  /  69\n",
      "\n",
      "Number of data points with NaN: 0  /  1650\n",
      "\n",
      "initial_ttl -> \n",
      "0.049751    105\n",
      "0.024876    105\n",
      "0.000000    105\n",
      "0.004975    105\n",
      "0.009950    105\n",
      "0.014925    105\n",
      "0.019900    105\n",
      "0.029851    105\n",
      "0.034826    105\n",
      "0.039801    105\n",
      "0.044776    105\n",
      "0.343284     41\n",
      "0.318408     41\n",
      "0.323383     41\n",
      "0.328358     41\n",
      "0.333333     41\n",
      "0.338308     41\n",
      "0.348259     41\n",
      "0.368159     41\n",
      "0.353234     41\n",
      "0.358209     41\n",
      "0.363184     41\n",
      "1.000000      4\n",
      "0.995025      4\n",
      "0.990050      4\n",
      "0.985075      4\n",
      "0.980100      4\n",
      "0.975124      4\n",
      "0.970149      4\n",
      "0.965174      4\n",
      "0.960199      4\n",
      "0.955224      4\n",
      "0.950249      4\n",
      "Name: initial_ttl, dtype: int64\n",
      "\n",
      "window_scaling_0 -> \n",
      "1.0    880\n",
      "0.0    770\n",
      "Name: window_scaling_0, dtype: int64\n",
      "\n",
      "window_scaling_1 -> \n",
      "0.0    1595\n",
      "1.0      55\n",
      "Name: window_scaling_1, dtype: int64\n",
      "\n",
      "window_scaling_10 -> \n",
      "0.0    1639\n",
      "1.0      11\n",
      "Name: window_scaling_10, dtype: int64\n",
      "\n",
      "window_scaling_2 -> \n",
      "0.0    1584\n",
      "1.0      66\n",
      "Name: window_scaling_2, dtype: int64\n",
      "\n",
      "window_scaling_3 -> \n",
      "0.0    1518\n",
      "1.0     132\n",
      "Name: window_scaling_3, dtype: int64\n",
      "\n",
      "window_scaling_4 -> \n",
      "0.0    1606\n",
      "1.0      44\n",
      "Name: window_scaling_4, dtype: int64\n",
      "\n",
      "window_scaling_5 -> \n",
      "0.0    1639\n",
      "1.0      11\n",
      "Name: window_scaling_5, dtype: int64\n",
      "\n",
      "window_scaling_6 -> \n",
      "0.0    1551\n",
      "1.0      99\n",
      "Name: window_scaling_6, dtype: int64\n",
      "\n",
      "window_scaling_7 -> \n",
      "0.0    1606\n",
      "1.0      44\n",
      "Name: window_scaling_7, dtype: int64\n",
      "\n",
      "window_scaling_8 -> \n",
      "0.0    1584\n",
      "1.0      66\n",
      "Name: window_scaling_8, dtype: int64\n",
      "\n",
      "tcp_options0_mss -> \n",
      "1.0    1485\n",
      "0.0     165\n",
      "Name: tcp_options0_mss, dtype: int64\n",
      "\n",
      "tcp_options0_sok -> \n",
      "0.0    1650\n",
      "Name: tcp_options0_sok, dtype: int64\n",
      "\n",
      "tcp_options0_ts -> \n",
      "0.0    1650\n",
      "Name: tcp_options0_ts, dtype: int64\n",
      "\n",
      "tcp_options0_nop -> \n",
      "0.0    1485\n",
      "1.0     165\n",
      "Name: tcp_options0_nop, dtype: int64\n",
      "\n",
      "tcp_options0_ws -> \n",
      "0.0    1650\n",
      "Name: tcp_options0_ws, dtype: int64\n",
      "\n",
      "tcp_options0_eol+1 -> \n",
      "0.0    1650\n",
      "Name: tcp_options0_eol+1, dtype: int64\n",
      "\n",
      "tcp_options1_mss -> \n",
      "0.0    1650\n",
      "Name: tcp_options1_mss, dtype: int64\n",
      "\n",
      "tcp_options1_sok -> \n",
      "0.0    1254\n",
      "1.0     396\n",
      "Name: tcp_options1_sok, dtype: int64\n",
      "\n",
      "tcp_options1_ts -> \n",
      "0.0    1650\n",
      "Name: tcp_options1_ts, dtype: int64\n",
      "\n",
      "tcp_options1_nop -> \n",
      "1.0    1089\n",
      "0.0     561\n",
      "Name: tcp_options1_nop, dtype: int64\n",
      "\n",
      "tcp_options1_ws -> \n",
      "0.0    1606\n",
      "1.0      44\n",
      "Name: tcp_options1_ws, dtype: int64\n",
      "\n",
      "tcp_options1_eol+1 -> \n",
      "0.0    1650\n",
      "Name: tcp_options1_eol+1, dtype: int64\n",
      "\n",
      "tcp_options2_mss -> \n",
      "0.0    1628\n",
      "1.0      22\n",
      "Name: tcp_options2_mss, dtype: int64\n",
      "\n",
      "tcp_options2_sok -> \n",
      "0.0    1639\n",
      "1.0      11\n",
      "Name: tcp_options2_sok, dtype: int64\n",
      "\n",
      "tcp_options2_ts -> \n",
      "0.0    1166\n",
      "1.0     484\n",
      "Name: tcp_options2_ts, dtype: int64\n",
      "\n",
      "tcp_options2_nop -> \n",
      "0.0    1199\n",
      "1.0     451\n",
      "Name: tcp_options2_nop, dtype: int64\n",
      "\n",
      "tcp_options2_ws -> \n",
      "0.0    1111\n",
      "1.0     539\n",
      "Name: tcp_options2_ws, dtype: int64\n",
      "\n",
      "tcp_options2_eol+1 -> \n",
      "0.0    1650\n",
      "Name: tcp_options2_eol+1, dtype: int64\n",
      "\n",
      "tcp_options3_mss -> \n",
      "0.0    1573\n",
      "1.0      77\n",
      "Name: tcp_options3_mss, dtype: int64\n",
      "\n",
      "tcp_options3_sok -> \n",
      "0.0    1287\n",
      "1.0     363\n",
      "Name: tcp_options3_sok, dtype: int64\n",
      "\n",
      "tcp_options3_ts -> \n",
      "0.0    1474\n",
      "1.0     176\n",
      "Name: tcp_options3_ts, dtype: int64\n",
      "\n",
      "tcp_options3_nop -> \n",
      "0.0    946\n",
      "1.0    704\n",
      "Name: tcp_options3_nop, dtype: int64\n",
      "\n",
      "tcp_options3_ws -> \n",
      "0.0    1650\n",
      "Name: tcp_options3_ws, dtype: int64\n",
      "\n",
      "tcp_options3_eol+1 -> \n",
      "0.0    1650\n",
      "Name: tcp_options3_eol+1, dtype: int64\n",
      "\n",
      "tcp_options4_mss -> \n",
      "0.0    1650\n",
      "Name: tcp_options4_mss, dtype: int64\n",
      "\n",
      "tcp_options4_sok -> \n",
      "0.0    1628\n",
      "1.0      22\n",
      "Name: tcp_options4_sok, dtype: int64\n",
      "\n",
      "tcp_options4_ts -> \n",
      "0.0    1562\n",
      "1.0      88\n",
      "Name: tcp_options4_ts, dtype: int64\n",
      "\n",
      "tcp_options4_nop -> \n",
      "0.0    1122\n",
      "1.0     528\n",
      "Name: tcp_options4_nop, dtype: int64\n",
      "\n",
      "tcp_options4_ws -> \n",
      "0.0    1287\n",
      "1.0     363\n",
      "Name: tcp_options4_ws, dtype: int64\n",
      "\n",
      "tcp_options4_eol+1 -> \n",
      "0.0    1650\n",
      "Name: tcp_options4_eol+1, dtype: int64\n",
      "\n",
      "tcp_options5_mss -> \n",
      "0.0    1617\n",
      "1.0      33\n",
      "Name: tcp_options5_mss, dtype: int64\n",
      "\n",
      "tcp_options5_sok -> \n",
      "0.0    1485\n",
      "1.0     165\n",
      "Name: tcp_options5_sok, dtype: int64\n",
      "\n",
      "tcp_options5_ts -> \n",
      "0.0    1496\n",
      "1.0     154\n",
      "Name: tcp_options5_ts, dtype: int64\n",
      "\n",
      "tcp_options5_nop -> \n",
      "0.0    1584\n",
      "1.0      66\n",
      "Name: tcp_options5_nop, dtype: int64\n",
      "\n",
      "tcp_options5_ws -> \n",
      "0.0    1485\n",
      "1.0     165\n",
      "Name: tcp_options5_ws, dtype: int64\n",
      "\n",
      "tcp_options5_eol+1 -> \n",
      "0.0    1650\n",
      "Name: tcp_options5_eol+1, dtype: int64\n",
      "\n",
      "tcp_options6_mss -> \n",
      "0.0    1639\n",
      "1.0      11\n",
      "Name: tcp_options6_mss, dtype: int64\n",
      "\n",
      "tcp_options6_sok -> \n",
      "0.0    1562\n",
      "1.0      88\n",
      "Name: tcp_options6_sok, dtype: int64\n",
      "\n",
      "tcp_options6_ts -> \n",
      "0.0    1639\n",
      "1.0      11\n",
      "Name: tcp_options6_ts, dtype: int64\n",
      "\n",
      "tcp_options6_nop -> \n",
      "0.0    1562\n",
      "1.0      88\n",
      "Name: tcp_options6_nop, dtype: int64\n",
      "\n",
      "tcp_options6_ws -> \n",
      "0.0    1650\n",
      "Name: tcp_options6_ws, dtype: int64\n",
      "\n",
      "tcp_options6_eol+1 -> \n",
      "0.0    1650\n",
      "Name: tcp_options6_eol+1, dtype: int64\n",
      "\n",
      "tcp_options7_mss -> \n",
      "0.0    1650\n",
      "Name: tcp_options7_mss, dtype: int64\n",
      "\n",
      "tcp_options7_sok -> \n",
      "0.0    1628\n",
      "1.0      22\n",
      "Name: tcp_options7_sok, dtype: int64\n",
      "\n",
      "tcp_options7_ts -> \n",
      "0.0    1650\n",
      "Name: tcp_options7_ts, dtype: int64\n",
      "\n",
      "tcp_options7_nop -> \n",
      "0.0    1584\n",
      "1.0      66\n",
      "Name: tcp_options7_nop, dtype: int64\n",
      "\n",
      "tcp_options7_ws -> \n",
      "0.0    1650\n",
      "Name: tcp_options7_ws, dtype: int64\n",
      "\n",
      "tcp_options7_eol+1 -> \n",
      "0.0    1650\n",
      "Name: tcp_options7_eol+1, dtype: int64\n",
      "\n",
      "tcp_options8_mss -> \n",
      "0.0    1628\n",
      "1.0      22\n",
      "Name: tcp_options8_mss, dtype: int64\n",
      "\n",
      "tcp_options8_sok -> \n",
      "0.0    1617\n",
      "1.0      33\n",
      "Name: tcp_options8_sok, dtype: int64\n",
      "\n",
      "tcp_options8_ts -> \n",
      "0.0    1617\n",
      "1.0      33\n",
      "Name: tcp_options8_ts, dtype: int64\n",
      "\n",
      "tcp_options8_nop -> \n",
      "0.0    1650\n",
      "Name: tcp_options8_nop, dtype: int64\n",
      "\n",
      "tcp_options8_ws -> \n",
      "0.0    1650\n",
      "Name: tcp_options8_ws, dtype: int64\n",
      "\n",
      "tcp_options8_eol+1 -> \n",
      "0.0    1650\n",
      "Name: tcp_options8_eol+1, dtype: int64\n",
      "\n",
      "os -> \n",
      "Linux       561\n",
      "Windows     473\n",
      "BSD         253\n",
      "Solaris     242\n",
      "Mac OS X    121\n",
      "Name: os, dtype: int64\n",
      "\n",
      "quirk_df -> \n",
      "1    1617\n",
      "0      33\n",
      "Name: quirk_df, dtype: int64\n",
      "\n",
      "quirk_id -> \n",
      "1    1397\n",
      "0     253\n",
      "Name: quirk_id, dtype: int64\n",
      "\n",
      "quirk_ts -> \n",
      "0    1562\n",
      "1      88\n",
      "Name: quirk_ts, dtype: int64\n",
      "\n"
     ]
    }
   ],
   "source": [
    "DataCheckings(df)"
   ]
  },
  {
   "cell_type": "code",
   "execution_count": 21,
   "id": "83916ee0",
   "metadata": {},
   "outputs": [],
   "source": [
    "df = df.drop_duplicates()"
   ]
  },
  {
   "cell_type": "markdown",
   "id": "c47eee06",
   "metadata": {},
   "source": [
    "#### Dataset split"
   ]
  },
  {
   "cell_type": "code",
   "execution_count": 22,
   "id": "9c9ec281",
   "metadata": {},
   "outputs": [],
   "source": [
    "# Create two datasets: requests and responses\n",
    "\n",
    "# df = df[df.sig_direction.isin(['request'])].drop('sig_direction', axis=1)\n",
    "# df_response = df[df.sig_direction.isin(['response'])].drop('sig_direction', axis=1)\n",
    "\n",
    "# df.reset_index(inplace=True, drop=True)\n",
    "# df_response.reset_index(inplace=True, drop=True)\n",
    "\n",
    "# del df"
   ]
  },
  {
   "cell_type": "markdown",
   "id": "1509e59c",
   "metadata": {},
   "source": [
    "### Verify the classes ballance"
   ]
  },
  {
   "cell_type": "code",
   "execution_count": 23,
   "id": "1d1199c6",
   "metadata": {},
   "outputs": [
    {
     "data": {
      "text/plain": [
       "Linux       297\n",
       "Windows     231\n",
       "Solaris     209\n",
       "BSD         187\n",
       "Mac OS X    121\n",
       "Name: os, dtype: int64"
      ]
     },
     "execution_count": 23,
     "metadata": {},
     "output_type": "execute_result"
    }
   ],
   "source": [
    "df[OutVar].value_counts()"
   ]
  },
  {
   "cell_type": "markdown",
   "id": "a8acecf5",
   "metadata": {},
   "source": [
    "### Get data as arrays"
   ]
  },
  {
   "cell_type": "code",
   "execution_count": 24,
   "id": "bea03bd9",
   "metadata": {},
   "outputs": [
    {
     "name": "stdout",
     "output_type": "stream",
     "text": [
      "Shape X data: (1045, 68)\n",
      "Shape Y data: (1045,)\n"
     ]
    }
   ],
   "source": [
    "# Request\n",
    "\n",
    "Ydata = df[OutVar].values                  # get values of features\n",
    "Xdata = df.drop(OutVar,axis = 1).values    # get output values\n",
    "\n",
    "print('Shape X data:', Xdata.shape)\n",
    "print('Shape Y data:',Ydata.shape)"
   ]
  },
  {
   "cell_type": "markdown",
   "id": "7959ba23",
   "metadata": {},
   "source": [
    "### Data split"
   ]
  },
  {
   "cell_type": "code",
   "execution_count": 25,
   "id": "144da96e",
   "metadata": {},
   "outputs": [],
   "source": [
    "from sklearn.model_selection import train_test_split"
   ]
  },
  {
   "cell_type": "code",
   "execution_count": 26,
   "id": "d604e432",
   "metadata": {},
   "outputs": [],
   "source": [
    "# # Request\n",
    "\n",
    "X_train, X_test, Y_train, Y_test = train_test_split(Xdata, Ydata, stratify=Ydata, test_size=0.20, random_state=seed)\n",
    "\n",
    "# # verify dimentions of data for training and test\n",
    "# print('Shape X_train:', X_train.shape)\n",
    "# print('Shape X_test:' , X_test.shape)\n",
    "# print('Shape y_train:', y_train.shape)\n",
    "# print('Shape y_test:' , y_test.shape)"
   ]
  },
  {
   "cell_type": "markdown",
   "id": "a0b84adb",
   "metadata": {},
   "source": [
    "### ML"
   ]
  },
  {
   "cell_type": "code",
   "execution_count": 27,
   "id": "306a0c09",
   "metadata": {},
   "outputs": [],
   "source": [
    "import time\n",
    "from sklearn.model_selection import cross_val_score, GridSearchCV, StratifiedKFold\n",
    "from sklearn.metrics import confusion_matrix,accuracy_score, roc_auc_score,f1_score, recall_score, precision_score\n",
    "from sklearn.utils import class_weight\n",
    "from sklearn.neighbors import KNeighborsClassifier\n",
    "from sklearn.ensemble import RandomForestClassifier, ExtraTreesClassifier\n",
    "from sklearn.ensemble import GradientBoostingClassifier, BaggingClassifier, AdaBoostClassifier\n",
    "from sklearn.metrics import classification_report\n",
    "from sklearn.naive_bayes import GaussianNB, BernoulliNB\n",
    "from sklearn.discriminant_analysis import LinearDiscriminantAnalysis\n",
    "from sklearn.tree import DecisionTreeClassifier\n",
    "from sklearn.linear_model import LogisticRegression\n",
    "from sklearn.svm import SVC\n",
    "from sklearn.neural_network import MLPClassifier"
   ]
  },
  {
   "cell_type": "markdown",
   "id": "82ac6edb",
   "metadata": {},
   "source": [
    "##### Classes balance"
   ]
  },
  {
   "cell_type": "code",
   "execution_count": 28,
   "id": "69552527",
   "metadata": {},
   "outputs": [
    {
     "name": "stdout",
     "output_type": "stream",
     "text": [
      "Request balance =>  {'BSD': 1.1176470588235294, 'Linux': 0.7037037037037037, 'Mac OS X': 1.7272727272727273, 'Solaris': 1.0, 'Windows': 0.9047619047619048}\n"
     ]
    }
   ],
   "source": [
    "def set_weights(y_data, option='balanced'):\n",
    "    \"\"\"Estimate class weights for umbalanced dataset\n",
    "       If ‘balanced’, class weights will be given by n_samples / (n_classes * np.bincount(y)). \n",
    "       If a dictionary is given, keys are classes and values are corresponding class weights. \n",
    "       If None is given, the class weights will be uniform \"\"\"\n",
    "    cw = class_weight.compute_class_weight(class_weight=option, classes=np.unique(y_data), y=y_data)\n",
    "    w = {i:j for i,j in zip(np.unique(y_data), cw)}\n",
    "    return w\n",
    "\n",
    "class_weights = set_weights(Ydata)\n",
    "\n",
    "print(\"Request balance => \",class_weights)"
   ]
  },
  {
   "cell_type": "markdown",
   "id": "241e86d5",
   "metadata": {},
   "source": [
    "##### Classifiers definition"
   ]
  },
  {
   "cell_type": "code",
   "execution_count": 29,
   "id": "32dec07e",
   "metadata": {},
   "outputs": [],
   "source": [
    "# define a list of classifiers to train as baseline classifiers\n",
    "# classifiers = [\n",
    "#     GaussianNB(),\n",
    "#     LinearDiscriminantAnalysis(), # No random_state\n",
    "#     LogisticRegression(n_jobs=-1,solver='lbfgs',random_state=seed,class_weight=class_weights),\n",
    "#     MLPClassifier(hidden_layer_sizes= (30), random_state = seed, shuffle=False, solver='adam',activation='relu',batch_size=500, max_iter=5000),\n",
    "#     DecisionTreeClassifier(random_state=seed,class_weight=class_weights),\n",
    "#     RandomForestClassifier(n_jobs=-1,random_state=seed,class_weight=class_weights),\n",
    "#     BaggingClassifier(n_jobs=-1,random_state=seed)\n",
    "# ]\n",
    "\n",
    "classifiers = [\n",
    "    GaussianNB(),\n",
    "    BernoulliNB(),\n",
    "    LinearDiscriminantAnalysis(),\n",
    "    KNeighborsClassifier(),\n",
    "    LogisticRegression(n_jobs=-1,solver='lbfgs',multi_class='multinomial' , random_state=seed,class_weight=class_weights),\n",
    "    MLPClassifier(hidden_layer_sizes= (30), random_state = seed, shuffle=False, solver='adam',activation='relu',batch_size=30, max_iter=5000),\n",
    "    DecisionTreeClassifier(random_state=seed,class_weight=class_weights),\n",
    "    RandomForestClassifier(n_jobs=-1,random_state=seed,class_weight=class_weights),\n",
    "]"
   ]
  },
  {
   "cell_type": "markdown",
   "id": "96f4d01c",
   "metadata": {},
   "source": [
    "##### Training"
   ]
  },
  {
   "cell_type": "code",
   "execution_count": 30,
   "id": "472a2241",
   "metadata": {},
   "outputs": [],
   "source": [
    "from sklearn.model_selection import cross_val_score, RepeatedStratifiedKFold, LeaveOneOut\n",
    "from sklearn.metrics import cohen_kappa_score\n",
    "from sklearn.metrics import make_scorer"
   ]
  },
  {
   "cell_type": "code",
   "execution_count": 31,
   "id": "fa499d08",
   "metadata": {},
   "outputs": [],
   "source": [
    "scores = []\n",
    "\n",
    "# Scoring\n",
    "# scoring = 'accuracy'\n",
    "scoring = make_scorer(cohen_kappa_score)\n",
    "\n",
    "# Cross-validation method\n",
    "# cv = LeaveOneOut()\n",
    "cv = RepeatedStratifiedKFold(n_splits=5,n_repeats=60,random_state=seed)\n",
    "# cv = StratifiedKFold(n_splits=5,shuffle=True,random_state=seed)\n",
    "\n",
    "for classifier in classifiers:\n",
    "    results = cross_val_score(classifier,X_train,Y_train,cv=cv,scoring=scoring)\n",
    "    scores.append([str(type(classifier).__name__), results.mean()])\n",
    "\n",
    "\n",
    "# import matplotlib.pyplot as plt\n",
    "# %matplotlib inline\n",
    "# plt.plot(hiper_k_rango,scores)\n",
    "# plt.xlabel(\"Valores de k\")\n",
    "# plt.ylabel(\"Accuracy en 50 repeticiones 10-fold cross-validation\")"
   ]
  },
  {
   "cell_type": "code",
   "execution_count": 32,
   "id": "8626f50e",
   "metadata": {},
   "outputs": [
    {
     "data": {
      "text/plain": [
       "[['BernoulliNB', 0.6910373815708898],\n",
       " ['GaussianNB', 0.8036256845661983],\n",
       " ['LinearDiscriminantAnalysis', 0.8139800939040437],\n",
       " ['LogisticRegression', 0.8789167109379306],\n",
       " ['DecisionTreeClassifier', 0.8857604986707285],\n",
       " ['RandomForestClassifier', 0.8875123226595597],\n",
       " ['KNeighborsClassifier', 0.9039596224751721],\n",
       " ['MLPClassifier', 0.921149764921952]]"
      ]
     },
     "execution_count": 32,
     "metadata": {},
     "output_type": "execute_result"
    }
   ],
   "source": [
    "from operator import itemgetter\n",
    "\n",
    "sorted(scores, key=itemgetter(1))"
   ]
  },
  {
   "attachments": {},
   "cell_type": "markdown",
   "id": "c7bb251a",
   "metadata": {},
   "source": [
    "#### Hyperparameter tunning"
   ]
  },
  {
   "cell_type": "code",
   "execution_count": 34,
   "id": "8779e5bc",
   "metadata": {},
   "outputs": [
    {
     "name": "stdout",
     "output_type": "stream",
     "text": [
      "Fitting 300 folds for each of 48 candidates, totalling 14400 fits\n"
     ]
    },
    {
     "name": "stderr",
     "output_type": "stream",
     "text": [
      "c:\\Users\\ruben\\AppData\\Local\\Programs\\Python\\Python311\\Lib\\site-packages\\sklearn\\neural_network\\_multilayer_perceptron.py:686: ConvergenceWarning: Stochastic Optimizer: Maximum iterations (100) reached and the optimization hasn't converged yet.\n",
      "  warnings.warn(\n"
     ]
    },
    {
     "data": {
      "text/plain": [
       "{'activation': 'relu',\n",
       " 'alpha': 0.05,\n",
       " 'hidden_layer_sizes': (100,),\n",
       " 'learning_rate': 'constant',\n",
       " 'solver': 'adam'}"
      ]
     },
     "execution_count": 34,
     "metadata": {},
     "output_type": "execute_result"
    }
   ],
   "source": [
    "from sklearn.model_selection import RandomizedSearchCV, GridSearchCV\n",
    "\n",
    "# Decision Tree\n",
    "# classifier = DecisionTreeClassifier(random_state=seed,class_weight=class_weights)\n",
    "# grid_parameters =[\n",
    "#     {'max_depth':[None, 5, 10, 100, 500, 1000], 'min_samples_split':[2,4,6,8]}\n",
    "# ]\n",
    "\n",
    "# MLP CLassifier\n",
    "classifier = MLPClassifier(random_state = seed, shuffle=False, solver='adam',activation='relu',batch_size=30, max_iter=100)\n",
    "grid_parameters = {\n",
    "    'hidden_layer_sizes': [(50,50,50), (50,100,50), (100,)],\n",
    "    'activation': ['tanh', 'relu'],\n",
    "    'solver': ['sgd', 'adam'],\n",
    "    'alpha': [0.0001, 0.05],\n",
    "    'learning_rate': ['constant','adaptive'],\n",
    "}\n",
    "    \n",
    "\n",
    "grid_search = GridSearchCV(\n",
    "    classifier, \n",
    "    grid_parameters, \n",
    "    cv=cv,\n",
    "    scoring=scoring,\n",
    "    return_train_score=False,\n",
    "    verbose=3,\n",
    "    n_jobs=-1,\n",
    "    refit=True,\n",
    ")\n",
    "\n",
    "grid_search.fit(X_train,Y_train)\n",
    "\n",
    "grid_search.best_params_"
   ]
  },
  {
   "attachments": {},
   "cell_type": "markdown",
   "id": "e8c6fd23",
   "metadata": {},
   "source": [
    "#### Final validation"
   ]
  },
  {
   "cell_type": "code",
   "execution_count": 35,
   "id": "557b73a7",
   "metadata": {},
   "outputs": [],
   "source": [
    "from sklearn.metrics import classification_report, ConfusionMatrixDisplay, confusion_matrix"
   ]
  },
  {
   "cell_type": "code",
   "execution_count": 36,
   "id": "5142410d",
   "metadata": {},
   "outputs": [
    {
     "name": "stdout",
     "output_type": "stream",
     "text": [
      "              precision    recall  f1-score   support\n",
      "\n",
      "         BSD       0.91      0.84      0.88        38\n",
      "       Linux       1.00      0.97      0.98        59\n",
      "    Mac OS X       0.79      0.92      0.85        24\n",
      "     Solaris       0.88      0.90      0.89        42\n",
      "     Windows       1.00      1.00      1.00        46\n",
      "\n",
      "    accuracy                           0.93       209\n",
      "   macro avg       0.92      0.93      0.92       209\n",
      "weighted avg       0.94      0.93      0.93       209\n",
      "\n"
     ]
    }
   ],
   "source": [
    "y_true, y_pred = Y_test, grid_search.predict(X_test)\n",
    "print(classification_report(y_true, y_pred))"
   ]
  },
  {
   "cell_type": "code",
   "execution_count": 51,
   "id": "759c723e",
   "metadata": {},
   "outputs": [
    {
     "data": {
      "text/plain": [
       "<sklearn.metrics._plot.confusion_matrix.ConfusionMatrixDisplay at 0x164825e2c10>"
      ]
     },
     "execution_count": 51,
     "metadata": {},
     "output_type": "execute_result"
    },
    {
     "data": {
      "image/png": "[encoded data removed]",
      "text/plain": [
       "<Figure size 640x480 with 2 Axes>"
      ]
     },
     "metadata": {},
     "output_type": "display_data"
    }
   ],
   "source": [
    "disp = ConfusionMatrixDisplay(confusion_matrix(y_true, y_pred, labels=grid_search.classes_),display_labels=['Mac OS X', 'BSD', 'Solaris', 'Linux', 'Windows'])\n",
    "\n",
    "disp.plot()"
   ]
  },
  {
   "cell_type": "code",
   "execution_count": 41,
   "id": "a92b033b",
   "metadata": {},
   "outputs": [],
   "source": [
    "import matplotlib.pyplot as plt"
   ]
  },
  {
   "cell_type": "code",
   "execution_count": 52,
   "id": "63d111eb",
   "metadata": {},
   "outputs": [
    {
     "data": {
      "text/plain": [
       "<sklearn.metrics._plot.confusion_matrix.ConfusionMatrixDisplay at 0x164825e2c10>"
      ]
     },
     "execution_count": 52,
     "metadata": {},
     "output_type": "execute_result"
    },
    {
     "data": {
      "image/png": "[encoded data removed]",
      "text/plain": [
       "<Figure size 640x480 with 2 Axes>"
      ]
     },
     "metadata": {},
     "output_type": "display_data"
    }
   ],
   "source": [
    "disp.plot(cmap=plt.cm.Blues)"
   ]
  },
  {
   "cell_type": "code",
   "execution_count": 53,
   "id": "cf356034",
   "metadata": {},
   "outputs": [
    {
     "data": {
      "text/plain": [
       "<sklearn.metrics._plot.confusion_matrix.ConfusionMatrixDisplay at 0x1648ff63450>"
      ]
     },
     "execution_count": 53,
     "metadata": {},
     "output_type": "execute_result"
    },
    {
     "data": {
      "image/png": "[encoded data removed]",
      "text/plain": [
       "<Figure size 640x480 with 2 Axes>"
      ]
     },
     "metadata": {},
     "output_type": "display_data"
    }
   ],
   "source": [
    "disp2 = ConfusionMatrixDisplay(confusion_matrix(y_true, y_pred, labels=grid_search.classes_,normalize='true'),display_labels=['Mac OS X', 'BSD','Solaris', 'Linux', 'Windows'])\n",
    "disp2.plot(cmap=plt.cm.Blues)"
   ]
  },
  {
   "cell_type": "code",
   "execution_count": 43,
   "id": "f0676244",
   "metadata": {},
   "outputs": [
    {
     "name": "stdout",
     "output_type": "stream",
     "text": [
      "0.9149270221550271\n"
     ]
    }
   ],
   "source": [
    "print(cohen_kappa_score(y_true, y_pred))"
   ]
  },
  {
   "cell_type": "markdown",
   "id": "20530004",
   "metadata": {},
   "source": [
    "### Export transformers & model"
   ]
  },
  {
   "cell_type": "code",
   "execution_count": 54,
   "id": "ae085e34",
   "metadata": {},
   "outputs": [
    {
     "data": {
      "text/plain": [
       "['../../persistence/p0f/p0f_classifier.joblib']"
      ]
     },
     "execution_count": 54,
     "metadata": {},
     "output_type": "execute_result"
    }
   ],
   "source": [
    "from joblib import dump\n",
    "\n",
    "# Transformers\n",
    "dump(encoders, '../../persistence/p0f/p0f_encoders.joblib')\n",
    "\n",
    "# Models\n",
    "dump(grid_search.best_estimator_,'../../persistence/p0f/p0f_classifier.joblib')"
   ]
  }
 ],
 "metadata": {
  "interpreter": {
   "hash": "641d8269f063d1dd6b8e5de571a838aa2a022ace140349eaf6f3c271c01e6aeb"
  },
  "kernelspec": {
   "display_name": "Python 3.8.10 ('venv': venv)",
   "language": "python",
   "name": "python3"
  },
  "language_info": {
   "codemirror_mode": {
    "name": "ipython",
    "version": 3
   },
   "file_extension": ".py",
   "mimetype": "text/x-python",
   "name": "python",
   "nbconvert_exporter": "python",
   "pygments_lexer": "ipython3",
   "version": "3.11.2"
  }
 },
 "nbformat": 4,
 "nbformat_minor": 5
}
