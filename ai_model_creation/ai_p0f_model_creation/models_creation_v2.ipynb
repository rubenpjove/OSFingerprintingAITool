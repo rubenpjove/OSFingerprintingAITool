{
 "cells": [
  {
   "cell_type": "markdown",
   "id": "cae25198",
   "metadata": {},
   "source": [
    "# OS Fingerprinting based on ML and p0f dataset"
   ]
  },
  {
   "cell_type": "code",
   "execution_count": 201,
   "id": "0c94776a",
   "metadata": {},
   "outputs": [],
   "source": [
    "import numpy as np\n",
    "import pandas as pd\n",
    "import p0f_db_parser as parser"
   ]
  },
  {
   "cell_type": "code",
   "execution_count": 202,
   "id": "e320052a",
   "metadata": {},
   "outputs": [],
   "source": [
    "seed = 42\n",
    "np.random.seed(seed)"
   ]
  },
  {
   "cell_type": "markdown",
   "id": "35bb270d",
   "metadata": {},
   "source": [
    "### Parse database and import dataset"
   ]
  },
  {
   "cell_type": "code",
   "execution_count": 203,
   "id": "9ba34d95",
   "metadata": {},
   "outputs": [],
   "source": [
    "dataset,column_names = parser.parse_database(\"p0f.fp\")\n",
    "df = pd.DataFrame(dataset,columns=column_names)"
   ]
  },
  {
   "cell_type": "markdown",
   "id": "c779c695",
   "metadata": {},
   "source": [
    "### Explore dataset"
   ]
  },
  {
   "cell_type": "code",
   "execution_count": 204,
   "id": "41ab8755",
   "metadata": {},
   "outputs": [
    {
     "name": "stdout",
     "output_type": "stream",
     "text": [
      "Initial dataset\n"
     ]
    },
    {
     "data": {
      "text/html": [
       "<div>\n",
       "<style scoped>\n",
       "    .dataframe tbody tr th:only-of-type {\n",
       "        vertical-align: middle;\n",
       "    }\n",
       "\n",
       "    .dataframe tbody tr th {\n",
       "        vertical-align: top;\n",
       "    }\n",
       "\n",
       "    .dataframe thead th {\n",
       "        text-align: right;\n",
       "    }\n",
       "</style>\n",
       "<table border=\"1\" class=\"dataframe\">\n",
       "  <thead>\n",
       "    <tr style=\"text-align: right;\">\n",
       "      <th></th>\n",
       "      <th>sig_direction</th>\n",
       "      <th>os</th>\n",
       "      <th>version</th>\n",
       "      <th>initial_ttl</th>\n",
       "      <th>mss</th>\n",
       "      <th>window_size</th>\n",
       "      <th>window_scaling</th>\n",
       "      <th>tcp_options</th>\n",
       "      <th>quirk_df</th>\n",
       "      <th>quirk_id</th>\n",
       "      <th>quirk_ts</th>\n",
       "    </tr>\n",
       "  </thead>\n",
       "  <tbody>\n",
       "    <tr>\n",
       "      <th>0</th>\n",
       "      <td>request</td>\n",
       "      <td>Linux</td>\n",
       "      <td>3.11 and newer</td>\n",
       "      <td>64</td>\n",
       "      <td>*</td>\n",
       "      <td>mss*20</td>\n",
       "      <td>10</td>\n",
       "      <td>mss,sok,ts,nop,ws</td>\n",
       "      <td>1</td>\n",
       "      <td>1</td>\n",
       "      <td>0</td>\n",
       "    </tr>\n",
       "    <tr>\n",
       "      <th>1</th>\n",
       "      <td>request</td>\n",
       "      <td>Linux</td>\n",
       "      <td>3.11 and newer</td>\n",
       "      <td>64</td>\n",
       "      <td>*</td>\n",
       "      <td>mss*20</td>\n",
       "      <td>7</td>\n",
       "      <td>mss,sok,ts,nop,ws</td>\n",
       "      <td>1</td>\n",
       "      <td>1</td>\n",
       "      <td>0</td>\n",
       "    </tr>\n",
       "    <tr>\n",
       "      <th>2</th>\n",
       "      <td>request</td>\n",
       "      <td>Linux</td>\n",
       "      <td>3.1-3.10</td>\n",
       "      <td>64</td>\n",
       "      <td>*</td>\n",
       "      <td>mss*10</td>\n",
       "      <td>4</td>\n",
       "      <td>mss,sok,ts,nop,ws</td>\n",
       "      <td>1</td>\n",
       "      <td>1</td>\n",
       "      <td>0</td>\n",
       "    </tr>\n",
       "    <tr>\n",
       "      <th>3</th>\n",
       "      <td>request</td>\n",
       "      <td>Linux</td>\n",
       "      <td>3.1-3.10</td>\n",
       "      <td>64</td>\n",
       "      <td>*</td>\n",
       "      <td>mss*10</td>\n",
       "      <td>5</td>\n",
       "      <td>mss,sok,ts,nop,ws</td>\n",
       "      <td>1</td>\n",
       "      <td>1</td>\n",
       "      <td>0</td>\n",
       "    </tr>\n",
       "    <tr>\n",
       "      <th>4</th>\n",
       "      <td>request</td>\n",
       "      <td>Linux</td>\n",
       "      <td>3.1-3.10</td>\n",
       "      <td>64</td>\n",
       "      <td>*</td>\n",
       "      <td>mss*10</td>\n",
       "      <td>6</td>\n",
       "      <td>mss,sok,ts,nop,ws</td>\n",
       "      <td>1</td>\n",
       "      <td>1</td>\n",
       "      <td>0</td>\n",
       "    </tr>\n",
       "  </tbody>\n",
       "</table>\n",
       "</div>"
      ],
      "text/plain": [
       "  sig_direction     os         version  initial_ttl mss window_size  \\\n",
       "0       request  Linux  3.11 and newer           64   *      mss*20   \n",
       "1       request  Linux  3.11 and newer           64   *      mss*20   \n",
       "2       request  Linux        3.1-3.10           64   *      mss*10   \n",
       "3       request  Linux        3.1-3.10           64   *      mss*10   \n",
       "4       request  Linux        3.1-3.10           64   *      mss*10   \n",
       "\n",
       "  window_scaling        tcp_options  quirk_df  quirk_id  quirk_ts  \n",
       "0             10  mss,sok,ts,nop,ws         1         1         0  \n",
       "1              7  mss,sok,ts,nop,ws         1         1         0  \n",
       "2              4  mss,sok,ts,nop,ws         1         1         0  \n",
       "3              5  mss,sok,ts,nop,ws         1         1         0  \n",
       "4              6  mss,sok,ts,nop,ws         1         1         0  "
      ]
     },
     "execution_count": 204,
     "metadata": {},
     "output_type": "execute_result"
    }
   ],
   "source": [
    "print(\"Initial dataset\")\n",
    "df.head()"
   ]
  },
  {
   "cell_type": "code",
   "execution_count": 205,
   "id": "cb052282",
   "metadata": {},
   "outputs": [],
   "source": [
    "def DataCheckings(df):\n",
    "    # Check the number of data points in the data set\n",
    "    print(\"\\nData points =\", len(df))\n",
    "    \n",
    "    # Check the number of columns in the data set\n",
    "    print(\"\\nColumns (output + features)=\",len(df.columns))\n",
    "    \n",
    "    # Check the data types\n",
    "    print(\"\\nData types =\", df.dtypes.unique())\n",
    "\n",
    "    # Check the number of duplicates\n",
    "    print(\"Number of duplicates: \", df.duplicated().sum())\n",
    "\n",
    "    # Dataset statistics\n",
    "    print('\\n')\n",
    "    df.describe()\n",
    "    \n",
    "    # print names of columns\n",
    "    print('Column Names:\\n', df.columns)\n",
    "    \n",
    "    # see if there are categorical data\n",
    "    print(\"\\nCategorical features:\", df.select_dtypes(include=['O']).columns.tolist())\n",
    "    \n",
    "    # Check NA values\n",
    "    # Check any number of columns with NaN\n",
    "    print(\"\\nColumns with NaN: \", df.isnull().any().sum(), ' / ', len(df.columns))\n",
    "\n",
    "    # Check any number of data points with NaN\n",
    "    print(\"\\nNumber of data points with NaN:\", df.isnull().any(axis=1).sum(), ' / ', len(df))\n",
    "    \n",
    "    # List of values per column\n",
    "    print()\n",
    "    for column in df.columns:\n",
    "        print(column + \" -> \")\n",
    "        print(df[column].value_counts())\n",
    "        print()"
   ]
  },
  {
   "cell_type": "code",
   "execution_count": 206,
   "id": "36ab0d48",
   "metadata": {},
   "outputs": [
    {
     "name": "stdout",
     "output_type": "stream",
     "text": [
      "\n",
      "Data points = 180\n",
      "\n",
      "Columns (output + features)= 11\n",
      "\n",
      "Data types = [dtype('O') dtype('int64')]\n",
      "Number of duplicates:  0\n",
      "\n",
      "\n",
      "Column Names:\n",
      " Index(['sig_direction', 'os', 'version', 'initial_ttl', 'mss', 'window_size',\n",
      "       'window_scaling', 'tcp_options', 'quirk_df', 'quirk_id', 'quirk_ts'],\n",
      "      dtype='object')\n",
      "\n",
      "Categorical features: ['sig_direction', 'os', 'version', 'mss', 'window_size', 'window_scaling', 'tcp_options']\n",
      "\n",
      "Columns with NaN:  0  /  11\n",
      "\n",
      "Number of data points with NaN: 0  /  180\n",
      "\n",
      "sig_direction -> \n",
      "response    101\n",
      "request      79\n",
      "Name: sig_direction, dtype: int64\n",
      "\n",
      "os -> \n",
      "Linux          51\n",
      "Windows        43\n",
      "Solaris        22\n",
      "FreeBSD        14\n",
      "Mac OS X       11\n",
      "OpenBSD         9\n",
      "p0f             8\n",
      "HP-UX           8\n",
      "OpenVMS         4\n",
      "Tru64           3\n",
      "Nintendo        2\n",
      "BaiduSpider     2\n",
      "iOS             1\n",
      "NeXTSTEP        1\n",
      "Blackberry      1\n",
      "Name: os, dtype: int64\n",
      "\n",
      "version -> \n",
      "XP                                          21\n",
      "7 or 8                                      12\n",
      "3.x                                         10\n",
      "10                                           9\n",
      "10.x                                         9\n",
      "8                                            9\n",
      "11.x                                         8\n",
      "sendsyn utility                              8\n",
      "2.6.x                                        7\n",
      "2.4.x                                        7\n",
      "5.x                                          7\n",
      "                                             6\n",
      "8.x                                          6\n",
      "NT kernel 5.x                                4\n",
      "3.1-3.10                                     4\n",
      "2.4-2.6                                      4\n",
      "9.x                                          4\n",
      "6                                            4\n",
      "7.x                                          3\n",
      "8.x-9.x                                      3\n",
      "2.2.x                                        3\n",
      "4.x                                          3\n",
      "3.11 and newer                               2\n",
      "NT kernel                                    2\n",
      "2.6.x (loopback)                             2\n",
      "2.0                                          2\n",
      "3.x (loopback)                               2\n",
      "(Android)                                    2\n",
      "7 (Websense crawler)                         2\n",
      "NT kernel 6.x                                2\n",
      "2.2.x-3.x (barebone)                         1\n",
      "4.x-5.x                                      1\n",
      "2.2.x-3.x (no timestamps)                    1\n",
      "2.2.x-3.x                                    1\n",
      "2.4.x-2.6.x                                  1\n",
      "10.9 or newer (sometimes iPhone or iPad)     1\n",
      "2.6.x (Google crawler)                       1\n",
      "3DS                                          1\n",
      "Wii                                          1\n",
      "2.2.x (loopback)                             1\n",
      "2.4.x (loopback)                             1\n",
      "9.x or newer                                 1\n",
      "iPhone or iPad                               1\n",
      "Name: version, dtype: int64\n",
      "\n",
      "initial_ttl -> \n",
      "64     125\n",
      "128     43\n",
      "192      8\n",
      "255      4\n",
      "Name: initial_ttl, dtype: int64\n",
      "\n",
      "mss -> \n",
      "*        143\n",
      "1460      17\n",
      "1331       8\n",
      "16396      3\n",
      "16376      2\n",
      "1380       2\n",
      "3884       1\n",
      "1430       1\n",
      "1024       1\n",
      "1452       1\n",
      "1360       1\n",
      "Name: mss, dtype: int64\n",
      "\n",
      "window_size -> \n",
      "65535     41\n",
      "mss*4     25\n",
      "16384     21\n",
      "8192      14\n",
      "mss*10    13\n",
      "32768     11\n",
      "mss*37     8\n",
      "mss*19     8\n",
      "1337       8\n",
      "mss*2      5\n",
      "*          5\n",
      "mss*7      4\n",
      "mss*20     3\n",
      "mss*44     2\n",
      "3993       2\n",
      "mss*25     2\n",
      "32850      1\n",
      "mss*34     1\n",
      "mtu*2      1\n",
      "61440      1\n",
      "mss*8      1\n",
      "mss*12     1\n",
      "mss*22     1\n",
      "mss*11     1\n",
      "Name: window_size, dtype: int64\n",
      "\n",
      "window_scaling -> \n",
      "0     103\n",
      "*      22\n",
      "3      12\n",
      "6       9\n",
      "2       8\n",
      "8       6\n",
      "7       5\n",
      "5       5\n",
      "1       5\n",
      "4       4\n",
      "10      1\n",
      "Name: window_scaling, dtype: int64\n",
      "\n",
      "tcp_options -> \n",
      "mss,sok,ts,nop,ws                                         30\n",
      "mss,nop,nop,sok                                           17\n",
      "mss,nop,ws                                                16\n",
      "mss                                                       15\n",
      "mss,nop,ws,nop,nop,sok                                    14\n",
      "mss,nop,nop,ts                                             9\n",
      "mss,nop,ws,sok,ts                                          7\n",
      "mss,nop,ws,nop,nop,ts                                      7\n",
      "mss,nop,ws,nop,nop,ts,sok,eol+1                            6\n",
      "mss,nop,nop,sok,nop,ws                                     5\n",
      "mss,nop,nop,ts,nop,ws                                      5\n",
      "mss,sok,ts                                                 4\n",
      "mss,nop,nop,sok,nop,ws,nop,nop,ts                          3\n",
      "nop,nop,ts,mss                                             3\n",
      "mss,nop,ws,sok,eol+1                                       3\n",
      "mss,nop,nop,sok,nop,nop,ts                                 3\n",
      "mss,sok,eol+1                                              2\n",
      "nop,ws,mss                                                 2\n",
      "mss,nop,ws,nop,nop,ts,nop,nop,sok                          2\n",
      "mss,nop,nop,ts,nop,nop,sok                                 2\n",
      "nop,nop,ts,nop,ws,mss                                      2\n",
      "mss,sok,nop,nop,nop,nop,nop,nop,nop,nop,nop,nop,nop,ws     2\n",
      "nop,nop,ts,mss,nop,ws                                      1\n",
      "nop,nop,sok,mss                                            1\n",
      "nop,nop,ts,mss,nop,nop,sok                                 1\n",
      "nop,nop,ts,mss,nop,ws,nop,nop,sok                          1\n",
      "mss,ws,nop                                                 1\n",
      "nop,nop,ts,nop,nop,sok,mss                                 1\n",
      "nop,ws,nop,nop,sok,mss                                     1\n",
      "mss,ws,nop,nop,nop,ts                                      1\n",
      "mss,nop,nop,sok,ws,nop                                     1\n",
      "nop,nop,ts,nop,ws,nop,nop,sok,mss                          1\n",
      "mss,ts,nop,eol+8                                           1\n",
      "mss,nop,nop,ts,sok,eol+1                                   1\n",
      "mss,ws,nop,eol+15                                          1\n",
      "nop,ws,nop,nop,ts,nop,nop,sok,mss                          1\n",
      "mss,nop,eol+18                                             1\n",
      "mss,ws,sok,ts,nop,eol+3                                    1\n",
      "mss,ws,sok,nop,eol+13                                      1\n",
      "mss,sok,ts,nop,eol+6                                       1\n",
      "mss,ws,ts,nop,eol+5                                        1\n",
      "mss,sok,nop,eol+16                                         1\n",
      "mss,nop,nop,sok,ws,nop,nop,nop,ts                          1\n",
      "Name: tcp_options, dtype: int64\n",
      "\n",
      "quirk_df -> \n",
      "1    163\n",
      "0     17\n",
      "Name: quirk_df, dtype: int64\n",
      "\n",
      "quirk_id -> \n",
      "1    143\n",
      "0     37\n",
      "Name: quirk_id, dtype: int64\n",
      "\n",
      "quirk_ts -> \n",
      "0    172\n",
      "1      8\n",
      "Name: quirk_ts, dtype: int64\n",
      "\n"
     ]
    }
   ],
   "source": [
    "DataCheckings(df)"
   ]
  },
  {
   "cell_type": "code",
   "execution_count": 207,
   "id": "0be92502",
   "metadata": {},
   "outputs": [
    {
     "name": "stdout",
     "output_type": "stream",
     "text": [
      "Number of duplicates:  0\n"
     ]
    }
   ],
   "source": [
    "# Checking duplicates\n",
    "\n",
    "print(\"Number of duplicates: \", df.duplicated().sum())"
   ]
  },
  {
   "cell_type": "markdown",
   "id": "967b6ddb",
   "metadata": {},
   "source": [
    "### Encoding of the dataset"
   ]
  },
  {
   "cell_type": "code",
   "execution_count": 208,
   "id": "cfac79f5",
   "metadata": {},
   "outputs": [],
   "source": [
    "# Imports\n",
    "from sklearn.model_selection import train_test_split\n",
    "from sklearn.preprocessing import OneHotEncoder\n",
    "from sklearn.preprocessing import MinMaxScaler\n",
    "from sklearn.base import BaseEstimator\n",
    "from sklearn.base import TransformerMixin\n",
    "import transformers as tr"
   ]
  },
  {
   "cell_type": "markdown",
   "id": "6e63c499",
   "metadata": {},
   "source": [
    "#### Filter Operating Systems"
   ]
  },
  {
   "cell_type": "code",
   "execution_count": 209,
   "id": "d122966d",
   "metadata": {},
   "outputs": [],
   "source": [
    "# Filter OSes\n",
    "df = df[df.os.isin(['Linux', 'Windows', 'Mac OS X', 'Solaris', 'OpenBSD', 'FreeBSD'])]\n",
    "df.replace({'os': {'FreeBSD': 'BSD', 'OpenBSD': 'BSD'}}, inplace=True)\n",
    "\n",
    "df.reset_index(inplace=True, drop=True)\n",
    "\n",
    "# Drop version column\n",
    "df.drop([\"version\",\"sig_direction\"], inplace=True, axis=1)"
   ]
  },
  {
   "cell_type": "code",
   "execution_count": 210,
   "id": "51f186fd",
   "metadata": {},
   "outputs": [
    {
     "name": "stdout",
     "output_type": "stream",
     "text": [
      "<class 'pandas.core.frame.DataFrame'>\n",
      "RangeIndex: 150 entries, 0 to 149\n",
      "Data columns (total 9 columns):\n",
      " #   Column          Non-Null Count  Dtype \n",
      "---  ------          --------------  ----- \n",
      " 0   os              150 non-null    object\n",
      " 1   initial_ttl     150 non-null    int64 \n",
      " 2   mss             150 non-null    object\n",
      " 3   window_size     150 non-null    object\n",
      " 4   window_scaling  150 non-null    object\n",
      " 5   tcp_options     150 non-null    object\n",
      " 6   quirk_df        150 non-null    int64 \n",
      " 7   quirk_id        150 non-null    int64 \n",
      " 8   quirk_ts        150 non-null    int64 \n",
      "dtypes: int64(4), object(5)\n",
      "memory usage: 10.7+ KB\n"
     ]
    }
   ],
   "source": [
    "df.info()"
   ]
  },
  {
   "cell_type": "markdown",
   "metadata": {},
   "source": [
    "#### Data Augmentation"
   ]
  },
  {
   "cell_type": "code",
   "execution_count": 211,
   "id": "e432aa5c",
   "metadata": {},
   "outputs": [],
   "source": [
    "# Data Augmentation\n",
    "# TTL, MSS & Windows size\n",
    "\n",
    "# ttl_factor = 10\n",
    "\n",
    "# array = df.to_numpy()\n",
    "# ttl_i = df.columns.get_loc('initial_ttl')\n",
    "\n",
    "# for row in array:\n",
    "#     for i in range(1,ttl_factor+1):\n",
    "#         new_row = row.copy()\n",
    "#         new_row[ttl_i] = row[ttl_i] - i\n",
    "        \n",
    "#         array = np.vstack((array, new_row))\n",
    "        \n",
    "# df = pd.DataFrame(array, columns = df.columns)"
   ]
  },
  {
   "cell_type": "markdown",
   "id": "746f18ef",
   "metadata": {},
   "source": [
    "#### TTL"
   ]
  },
  {
   "cell_type": "code",
   "execution_count": 212,
   "id": "24a6b739",
   "metadata": {
    "tags": []
   },
   "outputs": [],
   "source": [
    "# TTL\n",
    "# Numeric value\n",
    "\n",
    "encoder_ttl = MinMaxScaler()"
   ]
  },
  {
   "cell_type": "markdown",
   "id": "7d7e09dd",
   "metadata": {},
   "source": [
    "#### MSS"
   ]
  },
  {
   "cell_type": "code",
   "execution_count": 213,
   "id": "00bd8cb0",
   "metadata": {
    "tags": []
   },
   "outputs": [],
   "source": [
    "# MSS\n",
    "# Categorical encoding\n",
    "\n",
    "# encoder_mss = OneHotEncoder(drop=['*'], sparse=False, handle_unknown='ignore')\n",
    "df.drop('mss', inplace=True, axis=1)"
   ]
  },
  {
   "cell_type": "markdown",
   "id": "1c3c7abd",
   "metadata": {},
   "source": [
    "#### Window Size"
   ]
  },
  {
   "cell_type": "code",
   "execution_count": 214,
   "id": "e387659e",
   "metadata": {},
   "outputs": [],
   "source": [
    "# Window Size\n",
    "\n",
    "encoder_window_size = tr.WindowSizeTransformer"
   ]
  },
  {
   "cell_type": "markdown",
   "id": "ac872d9d",
   "metadata": {},
   "source": [
    "#### Windows Scaling"
   ]
  },
  {
   "cell_type": "code",
   "execution_count": 215,
   "id": "86414ee7",
   "metadata": {},
   "outputs": [],
   "source": [
    "# Window Scaling \n",
    "# Categorical encoding\n",
    "\n",
    "encoder_window_scaling = OneHotEncoder(drop=['*'], sparse=False, handle_unknown='ignore')"
   ]
  },
  {
   "cell_type": "markdown",
   "id": "9ed765f3",
   "metadata": {},
   "source": [
    "#### TCP options"
   ]
  },
  {
   "cell_type": "code",
   "execution_count": 216,
   "id": "9bd4c622",
   "metadata": {},
   "outputs": [],
   "source": [
    "# TCP Options\n",
    "# Custom transformer\n",
    "\n",
    "encoder_tcp_options = tr.TCPOptionsTransformer\n"
   ]
  },
  {
   "cell_type": "markdown",
   "id": "808d48d9",
   "metadata": {},
   "source": [
    "#### Quirks"
   ]
  },
  {
   "cell_type": "code",
   "execution_count": 217,
   "id": "c78c31f7",
   "metadata": {},
   "outputs": [],
   "source": [
    "# Quirks\n",
    "# Categorical encoding (already encoded)"
   ]
  },
  {
   "cell_type": "code",
   "execution_count": 218,
   "id": "0c3134cb",
   "metadata": {},
   "outputs": [
    {
     "data": {
      "text/html": [
       "<div>\n",
       "<style scoped>\n",
       "    .dataframe tbody tr th:only-of-type {\n",
       "        vertical-align: middle;\n",
       "    }\n",
       "\n",
       "    .dataframe tbody tr th {\n",
       "        vertical-align: top;\n",
       "    }\n",
       "\n",
       "    .dataframe thead th {\n",
       "        text-align: right;\n",
       "    }\n",
       "</style>\n",
       "<table border=\"1\" class=\"dataframe\">\n",
       "  <thead>\n",
       "    <tr style=\"text-align: right;\">\n",
       "      <th></th>\n",
       "      <th>os</th>\n",
       "      <th>initial_ttl</th>\n",
       "      <th>window_size</th>\n",
       "      <th>window_scaling</th>\n",
       "      <th>tcp_options</th>\n",
       "      <th>quirk_df</th>\n",
       "      <th>quirk_id</th>\n",
       "      <th>quirk_ts</th>\n",
       "    </tr>\n",
       "  </thead>\n",
       "  <tbody>\n",
       "    <tr>\n",
       "      <th>0</th>\n",
       "      <td>Linux</td>\n",
       "      <td>64</td>\n",
       "      <td>mss*20</td>\n",
       "      <td>10</td>\n",
       "      <td>mss,sok,ts,nop,ws</td>\n",
       "      <td>1</td>\n",
       "      <td>1</td>\n",
       "      <td>0</td>\n",
       "    </tr>\n",
       "    <tr>\n",
       "      <th>1</th>\n",
       "      <td>Linux</td>\n",
       "      <td>64</td>\n",
       "      <td>mss*20</td>\n",
       "      <td>7</td>\n",
       "      <td>mss,sok,ts,nop,ws</td>\n",
       "      <td>1</td>\n",
       "      <td>1</td>\n",
       "      <td>0</td>\n",
       "    </tr>\n",
       "    <tr>\n",
       "      <th>2</th>\n",
       "      <td>Linux</td>\n",
       "      <td>64</td>\n",
       "      <td>mss*10</td>\n",
       "      <td>4</td>\n",
       "      <td>mss,sok,ts,nop,ws</td>\n",
       "      <td>1</td>\n",
       "      <td>1</td>\n",
       "      <td>0</td>\n",
       "    </tr>\n",
       "    <tr>\n",
       "      <th>3</th>\n",
       "      <td>Linux</td>\n",
       "      <td>64</td>\n",
       "      <td>mss*10</td>\n",
       "      <td>5</td>\n",
       "      <td>mss,sok,ts,nop,ws</td>\n",
       "      <td>1</td>\n",
       "      <td>1</td>\n",
       "      <td>0</td>\n",
       "    </tr>\n",
       "    <tr>\n",
       "      <th>4</th>\n",
       "      <td>Linux</td>\n",
       "      <td>64</td>\n",
       "      <td>mss*10</td>\n",
       "      <td>6</td>\n",
       "      <td>mss,sok,ts,nop,ws</td>\n",
       "      <td>1</td>\n",
       "      <td>1</td>\n",
       "      <td>0</td>\n",
       "    </tr>\n",
       "  </tbody>\n",
       "</table>\n",
       "</div>"
      ],
      "text/plain": [
       "      os  initial_ttl window_size window_scaling        tcp_options  quirk_df  \\\n",
       "0  Linux           64      mss*20             10  mss,sok,ts,nop,ws         1   \n",
       "1  Linux           64      mss*20              7  mss,sok,ts,nop,ws         1   \n",
       "2  Linux           64      mss*10              4  mss,sok,ts,nop,ws         1   \n",
       "3  Linux           64      mss*10              5  mss,sok,ts,nop,ws         1   \n",
       "4  Linux           64      mss*10              6  mss,sok,ts,nop,ws         1   \n",
       "\n",
       "   quirk_id  quirk_ts  \n",
       "0         1         0  \n",
       "1         1         0  \n",
       "2         1         0  \n",
       "3         1         0  \n",
       "4         1         0  "
      ]
     },
     "execution_count": 218,
     "metadata": {},
     "output_type": "execute_result"
    }
   ],
   "source": [
    "df.head()"
   ]
  },
  {
   "cell_type": "markdown",
   "id": "8ddfb41b",
   "metadata": {},
   "source": [
    "#### Applying encodings"
   ]
  },
  {
   "cell_type": "code",
   "execution_count": 219,
   "id": "6fa1e511",
   "metadata": {},
   "outputs": [
    {
     "ename": "TypeError",
     "evalue": "Cannot clone object. You should provide an instance of scikit-learn estimator instead of a class.",
     "output_type": "error",
     "traceback": [
      "\u001b[1;31m---------------------------------------------------------------------------\u001b[0m",
      "\u001b[1;31mEmpty\u001b[0m                                     Traceback (most recent call last)",
      "File \u001b[1;32mc:\\Users\\ruben\\AppData\\Local\\Programs\\Python\\Python311\\Lib\\site-packages\\joblib\\parallel.py:862\u001b[0m, in \u001b[0;36mParallel.dispatch_one_batch\u001b[1;34m(self, iterator)\u001b[0m\n\u001b[0;32m    861\u001b[0m \u001b[39mtry\u001b[39;00m:\n\u001b[1;32m--> 862\u001b[0m     tasks \u001b[39m=\u001b[39m \u001b[39mself\u001b[39;49m\u001b[39m.\u001b[39;49m_ready_batches\u001b[39m.\u001b[39;49mget(block\u001b[39m=\u001b[39;49m\u001b[39mFalse\u001b[39;49;00m)\n\u001b[0;32m    863\u001b[0m \u001b[39mexcept\u001b[39;00m queue\u001b[39m.\u001b[39mEmpty:\n\u001b[0;32m    864\u001b[0m     \u001b[39m# slice the iterator n_jobs * batchsize items at a time. If the\u001b[39;00m\n\u001b[0;32m    865\u001b[0m     \u001b[39m# slice returns less than that, then the current batchsize puts\u001b[39;00m\n\u001b[1;32m   (...)\u001b[0m\n\u001b[0;32m    868\u001b[0m     \u001b[39m# accordingly to distribute evenly the last items between all\u001b[39;00m\n\u001b[0;32m    869\u001b[0m     \u001b[39m# workers.\u001b[39;00m\n",
      "File \u001b[1;32mc:\\Users\\ruben\\AppData\\Local\\Programs\\Python\\Python311\\Lib\\queue.py:168\u001b[0m, in \u001b[0;36mQueue.get\u001b[1;34m(self, block, timeout)\u001b[0m\n\u001b[0;32m    167\u001b[0m     \u001b[39mif\u001b[39;00m \u001b[39mnot\u001b[39;00m \u001b[39mself\u001b[39m\u001b[39m.\u001b[39m_qsize():\n\u001b[1;32m--> 168\u001b[0m         \u001b[39mraise\u001b[39;00m Empty\n\u001b[0;32m    169\u001b[0m \u001b[39melif\u001b[39;00m timeout \u001b[39mis\u001b[39;00m \u001b[39mNone\u001b[39;00m:\n",
      "\u001b[1;31mEmpty\u001b[0m: ",
      "\nDuring handling of the above exception, another exception occurred:\n",
      "\u001b[1;31mTypeError\u001b[0m                                 Traceback (most recent call last)",
      "Cell \u001b[1;32mIn[219], line 15\u001b[0m\n\u001b[0;32m      5\u001b[0m df\u001b[39m.\u001b[39mreset_index(inplace\u001b[39m=\u001b[39m\u001b[39mTrue\u001b[39;00m, drop\u001b[39m=\u001b[39m\u001b[39mTrue\u001b[39;00m)\n\u001b[0;32m      7\u001b[0m encoders \u001b[39m=\u001b[39m make_column_transformer(\n\u001b[0;32m      8\u001b[0m     \u001b[39m# (encoder_ttl, ['initial_ttl']),\u001b[39;00m\n\u001b[0;32m      9\u001b[0m     (encoder_window_size, [\u001b[39m'\u001b[39m\u001b[39mwindow_size\u001b[39m\u001b[39m'\u001b[39m]),\n\u001b[1;32m   (...)\u001b[0m\n\u001b[0;32m     12\u001b[0m     remainder\u001b[39m=\u001b[39m\u001b[39m'\u001b[39m\u001b[39mpassthrough\u001b[39m\u001b[39m'\u001b[39m,\n\u001b[0;32m     13\u001b[0m     verbose_feature_names_out\u001b[39m=\u001b[39m\u001b[39mFalse\u001b[39;00m)\n\u001b[1;32m---> 15\u001b[0m transformed \u001b[39m=\u001b[39m encoders\u001b[39m.\u001b[39;49mfit_transform(df)\n\u001b[0;32m     16\u001b[0m transformed_df \u001b[39m=\u001b[39m pd\u001b[39m.\u001b[39mDataFrame(\n\u001b[0;32m     17\u001b[0m     transformed,\n\u001b[0;32m     18\u001b[0m     columns\u001b[39m=\u001b[39mencoders\u001b[39m.\u001b[39mget_feature_names_out()\n\u001b[0;32m     19\u001b[0m )\n\u001b[0;32m     21\u001b[0m df \u001b[39m=\u001b[39m transformed_df\n",
      "File \u001b[1;32mc:\\Users\\ruben\\AppData\\Local\\Programs\\Python\\Python311\\Lib\\site-packages\\sklearn\\utils\\_set_output.py:140\u001b[0m, in \u001b[0;36m_wrap_method_output.<locals>.wrapped\u001b[1;34m(self, X, *args, **kwargs)\u001b[0m\n\u001b[0;32m    138\u001b[0m \u001b[39m@wraps\u001b[39m(f)\n\u001b[0;32m    139\u001b[0m \u001b[39mdef\u001b[39;00m \u001b[39mwrapped\u001b[39m(\u001b[39mself\u001b[39m, X, \u001b[39m*\u001b[39margs, \u001b[39m*\u001b[39m\u001b[39m*\u001b[39mkwargs):\n\u001b[1;32m--> 140\u001b[0m     data_to_wrap \u001b[39m=\u001b[39m f(\u001b[39mself\u001b[39;49m, X, \u001b[39m*\u001b[39;49margs, \u001b[39m*\u001b[39;49m\u001b[39m*\u001b[39;49mkwargs)\n\u001b[0;32m    141\u001b[0m     \u001b[39mif\u001b[39;00m \u001b[39misinstance\u001b[39m(data_to_wrap, \u001b[39mtuple\u001b[39m):\n\u001b[0;32m    142\u001b[0m         \u001b[39m# only wrap the first output for cross decomposition\u001b[39;00m\n\u001b[0;32m    143\u001b[0m         \u001b[39mreturn\u001b[39;00m (\n\u001b[0;32m    144\u001b[0m             _wrap_data_with_container(method, data_to_wrap[\u001b[39m0\u001b[39m], X, \u001b[39mself\u001b[39m),\n\u001b[0;32m    145\u001b[0m             \u001b[39m*\u001b[39mdata_to_wrap[\u001b[39m1\u001b[39m:],\n\u001b[0;32m    146\u001b[0m         )\n",
      "File \u001b[1;32mc:\\Users\\ruben\\AppData\\Local\\Programs\\Python\\Python311\\Lib\\site-packages\\sklearn\\compose\\_column_transformer.py:727\u001b[0m, in \u001b[0;36mColumnTransformer.fit_transform\u001b[1;34m(self, X, y)\u001b[0m\n\u001b[0;32m    724\u001b[0m \u001b[39mself\u001b[39m\u001b[39m.\u001b[39m_validate_column_callables(X)\n\u001b[0;32m    725\u001b[0m \u001b[39mself\u001b[39m\u001b[39m.\u001b[39m_validate_remainder(X)\n\u001b[1;32m--> 727\u001b[0m result \u001b[39m=\u001b[39m \u001b[39mself\u001b[39;49m\u001b[39m.\u001b[39;49m_fit_transform(X, y, _fit_transform_one)\n\u001b[0;32m    729\u001b[0m \u001b[39mif\u001b[39;00m \u001b[39mnot\u001b[39;00m result:\n\u001b[0;32m    730\u001b[0m     \u001b[39mself\u001b[39m\u001b[39m.\u001b[39m_update_fitted_transformers([])\n",
      "File \u001b[1;32mc:\\Users\\ruben\\AppData\\Local\\Programs\\Python\\Python311\\Lib\\site-packages\\sklearn\\compose\\_column_transformer.py:658\u001b[0m, in \u001b[0;36mColumnTransformer._fit_transform\u001b[1;34m(self, X, y, func, fitted, column_as_strings)\u001b[0m\n\u001b[0;32m    652\u001b[0m transformers \u001b[39m=\u001b[39m \u001b[39mlist\u001b[39m(\n\u001b[0;32m    653\u001b[0m     \u001b[39mself\u001b[39m\u001b[39m.\u001b[39m_iter(\n\u001b[0;32m    654\u001b[0m         fitted\u001b[39m=\u001b[39mfitted, replace_strings\u001b[39m=\u001b[39m\u001b[39mTrue\u001b[39;00m, column_as_strings\u001b[39m=\u001b[39mcolumn_as_strings\n\u001b[0;32m    655\u001b[0m     )\n\u001b[0;32m    656\u001b[0m )\n\u001b[0;32m    657\u001b[0m \u001b[39mtry\u001b[39;00m:\n\u001b[1;32m--> 658\u001b[0m     \u001b[39mreturn\u001b[39;00m Parallel(n_jobs\u001b[39m=\u001b[39;49m\u001b[39mself\u001b[39;49m\u001b[39m.\u001b[39;49mn_jobs)(\n\u001b[0;32m    659\u001b[0m         delayed(func)(\n\u001b[0;32m    660\u001b[0m             transformer\u001b[39m=\u001b[39;49mclone(trans) \u001b[39mif\u001b[39;49;00m \u001b[39mnot\u001b[39;49;00m fitted \u001b[39melse\u001b[39;49;00m trans,\n\u001b[0;32m    661\u001b[0m             X\u001b[39m=\u001b[39;49m_safe_indexing(X, column, axis\u001b[39m=\u001b[39;49m\u001b[39m1\u001b[39;49m),\n\u001b[0;32m    662\u001b[0m             y\u001b[39m=\u001b[39;49my,\n\u001b[0;32m    663\u001b[0m             weight\u001b[39m=\u001b[39;49mweight,\n\u001b[0;32m    664\u001b[0m             message_clsname\u001b[39m=\u001b[39;49m\u001b[39m\"\u001b[39;49m\u001b[39mColumnTransformer\u001b[39;49m\u001b[39m\"\u001b[39;49m,\n\u001b[0;32m    665\u001b[0m             message\u001b[39m=\u001b[39;49m\u001b[39mself\u001b[39;49m\u001b[39m.\u001b[39;49m_log_message(name, idx, \u001b[39mlen\u001b[39;49m(transformers)),\n\u001b[0;32m    666\u001b[0m         )\n\u001b[0;32m    667\u001b[0m         \u001b[39mfor\u001b[39;49;00m idx, (name, trans, column, weight) \u001b[39min\u001b[39;49;00m \u001b[39menumerate\u001b[39;49m(transformers, \u001b[39m1\u001b[39;49m)\n\u001b[0;32m    668\u001b[0m     )\n\u001b[0;32m    669\u001b[0m \u001b[39mexcept\u001b[39;00m \u001b[39mValueError\u001b[39;00m \u001b[39mas\u001b[39;00m e:\n\u001b[0;32m    670\u001b[0m     \u001b[39mif\u001b[39;00m \u001b[39m\"\u001b[39m\u001b[39mExpected 2D array, got 1D array instead\u001b[39m\u001b[39m\"\u001b[39m \u001b[39min\u001b[39;00m \u001b[39mstr\u001b[39m(e):\n",
      "File \u001b[1;32mc:\\Users\\ruben\\AppData\\Local\\Programs\\Python\\Python311\\Lib\\site-packages\\sklearn\\utils\\parallel.py:63\u001b[0m, in \u001b[0;36mParallel.__call__\u001b[1;34m(self, iterable)\u001b[0m\n\u001b[0;32m     58\u001b[0m config \u001b[39m=\u001b[39m get_config()\n\u001b[0;32m     59\u001b[0m iterable_with_config \u001b[39m=\u001b[39m (\n\u001b[0;32m     60\u001b[0m     (_with_config(delayed_func, config), args, kwargs)\n\u001b[0;32m     61\u001b[0m     \u001b[39mfor\u001b[39;00m delayed_func, args, kwargs \u001b[39min\u001b[39;00m iterable\n\u001b[0;32m     62\u001b[0m )\n\u001b[1;32m---> 63\u001b[0m \u001b[39mreturn\u001b[39;00m \u001b[39msuper\u001b[39;49m()\u001b[39m.\u001b[39;49m\u001b[39m__call__\u001b[39;49m(iterable_with_config)\n",
      "File \u001b[1;32mc:\\Users\\ruben\\AppData\\Local\\Programs\\Python\\Python311\\Lib\\site-packages\\joblib\\parallel.py:1085\u001b[0m, in \u001b[0;36mParallel.__call__\u001b[1;34m(self, iterable)\u001b[0m\n\u001b[0;32m   1076\u001b[0m \u001b[39mtry\u001b[39;00m:\n\u001b[0;32m   1077\u001b[0m     \u001b[39m# Only set self._iterating to True if at least a batch\u001b[39;00m\n\u001b[0;32m   1078\u001b[0m     \u001b[39m# was dispatched. In particular this covers the edge\u001b[39;00m\n\u001b[1;32m   (...)\u001b[0m\n\u001b[0;32m   1082\u001b[0m     \u001b[39m# was very quick and its callback already dispatched all the\u001b[39;00m\n\u001b[0;32m   1083\u001b[0m     \u001b[39m# remaining jobs.\u001b[39;00m\n\u001b[0;32m   1084\u001b[0m     \u001b[39mself\u001b[39m\u001b[39m.\u001b[39m_iterating \u001b[39m=\u001b[39m \u001b[39mFalse\u001b[39;00m\n\u001b[1;32m-> 1085\u001b[0m     \u001b[39mif\u001b[39;00m \u001b[39mself\u001b[39;49m\u001b[39m.\u001b[39;49mdispatch_one_batch(iterator):\n\u001b[0;32m   1086\u001b[0m         \u001b[39mself\u001b[39m\u001b[39m.\u001b[39m_iterating \u001b[39m=\u001b[39m \u001b[39mself\u001b[39m\u001b[39m.\u001b[39m_original_iterator \u001b[39mis\u001b[39;00m \u001b[39mnot\u001b[39;00m \u001b[39mNone\u001b[39;00m\n\u001b[0;32m   1088\u001b[0m     \u001b[39mwhile\u001b[39;00m \u001b[39mself\u001b[39m\u001b[39m.\u001b[39mdispatch_one_batch(iterator):\n",
      "File \u001b[1;32mc:\\Users\\ruben\\AppData\\Local\\Programs\\Python\\Python311\\Lib\\site-packages\\joblib\\parallel.py:873\u001b[0m, in \u001b[0;36mParallel.dispatch_one_batch\u001b[1;34m(self, iterator)\u001b[0m\n\u001b[0;32m    870\u001b[0m n_jobs \u001b[39m=\u001b[39m \u001b[39mself\u001b[39m\u001b[39m.\u001b[39m_cached_effective_n_jobs\n\u001b[0;32m    871\u001b[0m big_batch_size \u001b[39m=\u001b[39m batch_size \u001b[39m*\u001b[39m n_jobs\n\u001b[1;32m--> 873\u001b[0m islice \u001b[39m=\u001b[39m \u001b[39mlist\u001b[39;49m(itertools\u001b[39m.\u001b[39;49mislice(iterator, big_batch_size))\n\u001b[0;32m    874\u001b[0m \u001b[39mif\u001b[39;00m \u001b[39mlen\u001b[39m(islice) \u001b[39m==\u001b[39m \u001b[39m0\u001b[39m:\n\u001b[0;32m    875\u001b[0m     \u001b[39mreturn\u001b[39;00m \u001b[39mFalse\u001b[39;00m\n",
      "File \u001b[1;32mc:\\Users\\ruben\\AppData\\Local\\Programs\\Python\\Python311\\Lib\\site-packages\\sklearn\\utils\\parallel.py:59\u001b[0m, in \u001b[0;36m<genexpr>\u001b[1;34m(.0)\u001b[0m\n\u001b[0;32m     54\u001b[0m \u001b[39m# Capture the thread-local scikit-learn configuration at the time\u001b[39;00m\n\u001b[0;32m     55\u001b[0m \u001b[39m# Parallel.__call__ is issued since the tasks can be dispatched\u001b[39;00m\n\u001b[0;32m     56\u001b[0m \u001b[39m# in a different thread depending on the backend and on the value of\u001b[39;00m\n\u001b[0;32m     57\u001b[0m \u001b[39m# pre_dispatch and n_jobs.\u001b[39;00m\n\u001b[0;32m     58\u001b[0m config \u001b[39m=\u001b[39m get_config()\n\u001b[1;32m---> 59\u001b[0m iterable_with_config \u001b[39m=\u001b[39m (\n\u001b[0;32m     60\u001b[0m     (_with_config(delayed_func, config), args, kwargs)\n\u001b[0;32m     61\u001b[0m     \u001b[39mfor\u001b[39;00m delayed_func, args, kwargs \u001b[39min\u001b[39;00m iterable\n\u001b[0;32m     62\u001b[0m )\n\u001b[0;32m     63\u001b[0m \u001b[39mreturn\u001b[39;00m \u001b[39msuper\u001b[39m()\u001b[39m.\u001b[39m\u001b[39m__call__\u001b[39m(iterable_with_config)\n",
      "File \u001b[1;32mc:\\Users\\ruben\\AppData\\Local\\Programs\\Python\\Python311\\Lib\\site-packages\\sklearn\\compose\\_column_transformer.py:660\u001b[0m, in \u001b[0;36m<genexpr>\u001b[1;34m(.0)\u001b[0m\n\u001b[0;32m    652\u001b[0m transformers \u001b[39m=\u001b[39m \u001b[39mlist\u001b[39m(\n\u001b[0;32m    653\u001b[0m     \u001b[39mself\u001b[39m\u001b[39m.\u001b[39m_iter(\n\u001b[0;32m    654\u001b[0m         fitted\u001b[39m=\u001b[39mfitted, replace_strings\u001b[39m=\u001b[39m\u001b[39mTrue\u001b[39;00m, column_as_strings\u001b[39m=\u001b[39mcolumn_as_strings\n\u001b[0;32m    655\u001b[0m     )\n\u001b[0;32m    656\u001b[0m )\n\u001b[0;32m    657\u001b[0m \u001b[39mtry\u001b[39;00m:\n\u001b[0;32m    658\u001b[0m     \u001b[39mreturn\u001b[39;00m Parallel(n_jobs\u001b[39m=\u001b[39m\u001b[39mself\u001b[39m\u001b[39m.\u001b[39mn_jobs)(\n\u001b[0;32m    659\u001b[0m         delayed(func)(\n\u001b[1;32m--> 660\u001b[0m             transformer\u001b[39m=\u001b[39mclone(trans) \u001b[39mif\u001b[39;00m \u001b[39mnot\u001b[39;00m fitted \u001b[39melse\u001b[39;00m trans,\n\u001b[0;32m    661\u001b[0m             X\u001b[39m=\u001b[39m_safe_indexing(X, column, axis\u001b[39m=\u001b[39m\u001b[39m1\u001b[39m),\n\u001b[0;32m    662\u001b[0m             y\u001b[39m=\u001b[39my,\n\u001b[0;32m    663\u001b[0m             weight\u001b[39m=\u001b[39mweight,\n\u001b[0;32m    664\u001b[0m             message_clsname\u001b[39m=\u001b[39m\u001b[39m\"\u001b[39m\u001b[39mColumnTransformer\u001b[39m\u001b[39m\"\u001b[39m,\n\u001b[0;32m    665\u001b[0m             message\u001b[39m=\u001b[39m\u001b[39mself\u001b[39m\u001b[39m.\u001b[39m_log_message(name, idx, \u001b[39mlen\u001b[39m(transformers)),\n\u001b[0;32m    666\u001b[0m         )\n\u001b[0;32m    667\u001b[0m         \u001b[39mfor\u001b[39;00m idx, (name, trans, column, weight) \u001b[39min\u001b[39;00m \u001b[39menumerate\u001b[39m(transformers, \u001b[39m1\u001b[39m)\n\u001b[0;32m    668\u001b[0m     )\n\u001b[0;32m    669\u001b[0m \u001b[39mexcept\u001b[39;00m \u001b[39mValueError\u001b[39;00m \u001b[39mas\u001b[39;00m e:\n\u001b[0;32m    670\u001b[0m     \u001b[39mif\u001b[39;00m \u001b[39m\"\u001b[39m\u001b[39mExpected 2D array, got 1D array instead\u001b[39m\u001b[39m\"\u001b[39m \u001b[39min\u001b[39;00m \u001b[39mstr\u001b[39m(e):\n",
      "File \u001b[1;32mc:\\Users\\ruben\\AppData\\Local\\Programs\\Python\\Python311\\Lib\\site-packages\\sklearn\\base.py:73\u001b[0m, in \u001b[0;36mclone\u001b[1;34m(estimator, safe)\u001b[0m\n\u001b[0;32m     71\u001b[0m \u001b[39melse\u001b[39;00m:\n\u001b[0;32m     72\u001b[0m     \u001b[39mif\u001b[39;00m \u001b[39misinstance\u001b[39m(estimator, \u001b[39mtype\u001b[39m):\n\u001b[1;32m---> 73\u001b[0m         \u001b[39mraise\u001b[39;00m \u001b[39mTypeError\u001b[39;00m(\n\u001b[0;32m     74\u001b[0m             \u001b[39m\"\u001b[39m\u001b[39mCannot clone object. \u001b[39m\u001b[39m\"\u001b[39m\n\u001b[0;32m     75\u001b[0m             \u001b[39m+\u001b[39m \u001b[39m\"\u001b[39m\u001b[39mYou should provide an instance of \u001b[39m\u001b[39m\"\u001b[39m\n\u001b[0;32m     76\u001b[0m             \u001b[39m+\u001b[39m \u001b[39m\"\u001b[39m\u001b[39mscikit-learn estimator instead of a class.\u001b[39m\u001b[39m\"\u001b[39m\n\u001b[0;32m     77\u001b[0m         )\n\u001b[0;32m     78\u001b[0m     \u001b[39melse\u001b[39;00m:\n\u001b[0;32m     79\u001b[0m         \u001b[39mraise\u001b[39;00m \u001b[39mTypeError\u001b[39;00m(\n\u001b[0;32m     80\u001b[0m             \u001b[39m\"\u001b[39m\u001b[39mCannot clone object \u001b[39m\u001b[39m'\u001b[39m\u001b[39m%s\u001b[39;00m\u001b[39m'\u001b[39m\u001b[39m (type \u001b[39m\u001b[39m%s\u001b[39;00m\u001b[39m): \u001b[39m\u001b[39m\"\u001b[39m\n\u001b[0;32m     81\u001b[0m             \u001b[39m\"\u001b[39m\u001b[39mit does not seem to be a scikit-learn \u001b[39m\u001b[39m\"\u001b[39m\n\u001b[0;32m     82\u001b[0m             \u001b[39m\"\u001b[39m\u001b[39mestimator as it does not implement a \u001b[39m\u001b[39m\"\u001b[39m\n\u001b[0;32m     83\u001b[0m             \u001b[39m\"\u001b[39m\u001b[39m'\u001b[39m\u001b[39mget_params\u001b[39m\u001b[39m'\u001b[39m\u001b[39m method.\u001b[39m\u001b[39m\"\u001b[39m \u001b[39m%\u001b[39m (\u001b[39mrepr\u001b[39m(estimator), \u001b[39mtype\u001b[39m(estimator))\n\u001b[0;32m     84\u001b[0m         )\n",
      "\u001b[1;31mTypeError\u001b[0m: Cannot clone object. You should provide an instance of scikit-learn estimator instead of a class."
     ]
    }
   ],
   "source": [
    "# Apply encodings\n",
    "\n",
    "from sklearn.compose import make_column_transformer\n",
    "\n",
    "df.reset_index(inplace=True, drop=True)\n",
    "\n",
    "encoders = make_column_transformer(\n",
    "    # (encoder_ttl, ['initial_ttl']),\n",
    "    (encoder_window_size, ['window_size']),\n",
    "    # (encoder_window_scaling, ['window_scaling']),\n",
    "    # (encoder_tcp_options, ['tcp_options']),\n",
    "    remainder='passthrough',\n",
    "    verbose_feature_names_out=False)\n",
    "\n",
    "transformed = encoders.fit_transform(df)\n",
    "transformed_df = pd.DataFrame(\n",
    "    transformed,\n",
    "    columns=encoders.get_feature_names_out()\n",
    ")\n",
    "\n",
    "df = transformed_df\n",
    "\n",
    "# define output variable name\n",
    "OutVar = df.os.name"
   ]
  },
  {
   "cell_type": "code",
   "execution_count": 84,
   "id": "b02367b8",
   "metadata": {},
   "outputs": [
    {
     "data": {
      "text/html": [
       "<div>\n",
       "<style scoped>\n",
       "    .dataframe tbody tr th:only-of-type {\n",
       "        vertical-align: middle;\n",
       "    }\n",
       "\n",
       "    .dataframe tbody tr th {\n",
       "        vertical-align: top;\n",
       "    }\n",
       "\n",
       "    .dataframe thead th {\n",
       "        text-align: right;\n",
       "    }\n",
       "</style>\n",
       "<table border=\"1\" class=\"dataframe\">\n",
       "  <thead>\n",
       "    <tr style=\"text-align: right;\">\n",
       "      <th></th>\n",
       "      <th>initial_ttl</th>\n",
       "      <th>os</th>\n",
       "      <th>window_size</th>\n",
       "      <th>window_scaling</th>\n",
       "      <th>tcp_options</th>\n",
       "      <th>quirk_df</th>\n",
       "      <th>quirk_id</th>\n",
       "      <th>quirk_ts</th>\n",
       "    </tr>\n",
       "  </thead>\n",
       "  <tbody>\n",
       "    <tr>\n",
       "      <th>0</th>\n",
       "      <td>0.0</td>\n",
       "      <td>Linux</td>\n",
       "      <td>mss*20</td>\n",
       "      <td>10</td>\n",
       "      <td>mss,sok,ts,nop,ws</td>\n",
       "      <td>1</td>\n",
       "      <td>1</td>\n",
       "      <td>0</td>\n",
       "    </tr>\n",
       "    <tr>\n",
       "      <th>1</th>\n",
       "      <td>0.0</td>\n",
       "      <td>Linux</td>\n",
       "      <td>mss*20</td>\n",
       "      <td>7</td>\n",
       "      <td>mss,sok,ts,nop,ws</td>\n",
       "      <td>1</td>\n",
       "      <td>1</td>\n",
       "      <td>0</td>\n",
       "    </tr>\n",
       "    <tr>\n",
       "      <th>2</th>\n",
       "      <td>0.0</td>\n",
       "      <td>Linux</td>\n",
       "      <td>mss*10</td>\n",
       "      <td>4</td>\n",
       "      <td>mss,sok,ts,nop,ws</td>\n",
       "      <td>1</td>\n",
       "      <td>1</td>\n",
       "      <td>0</td>\n",
       "    </tr>\n",
       "    <tr>\n",
       "      <th>3</th>\n",
       "      <td>0.0</td>\n",
       "      <td>Linux</td>\n",
       "      <td>mss*10</td>\n",
       "      <td>5</td>\n",
       "      <td>mss,sok,ts,nop,ws</td>\n",
       "      <td>1</td>\n",
       "      <td>1</td>\n",
       "      <td>0</td>\n",
       "    </tr>\n",
       "    <tr>\n",
       "      <th>4</th>\n",
       "      <td>0.0</td>\n",
       "      <td>Linux</td>\n",
       "      <td>mss*10</td>\n",
       "      <td>6</td>\n",
       "      <td>mss,sok,ts,nop,ws</td>\n",
       "      <td>1</td>\n",
       "      <td>1</td>\n",
       "      <td>0</td>\n",
       "    </tr>\n",
       "  </tbody>\n",
       "</table>\n",
       "</div>"
      ],
      "text/plain": [
       "  initial_ttl     os window_size window_scaling        tcp_options quirk_df  \\\n",
       "0         0.0  Linux      mss*20             10  mss,sok,ts,nop,ws        1   \n",
       "1         0.0  Linux      mss*20              7  mss,sok,ts,nop,ws        1   \n",
       "2         0.0  Linux      mss*10              4  mss,sok,ts,nop,ws        1   \n",
       "3         0.0  Linux      mss*10              5  mss,sok,ts,nop,ws        1   \n",
       "4         0.0  Linux      mss*10              6  mss,sok,ts,nop,ws        1   \n",
       "\n",
       "  quirk_id quirk_ts  \n",
       "0        1        0  \n",
       "1        1        0  \n",
       "2        1        0  \n",
       "3        1        0  \n",
       "4        1        0  "
      ]
     },
     "execution_count": 84,
     "metadata": {},
     "output_type": "execute_result"
    }
   ],
   "source": [
    "df.head()"
   ]
  },
  {
   "cell_type": "code",
   "execution_count": null,
   "id": "fe7334df",
   "metadata": {},
   "outputs": [],
   "source": [
    "DataCheckings(df)"
   ]
  },
  {
   "cell_type": "code",
   "execution_count": null,
   "id": "7c86bdc8",
   "metadata": {},
   "outputs": [],
   "source": [
    "df = df.drop_duplicates()"
   ]
  },
  {
   "cell_type": "markdown",
   "id": "c47eee06",
   "metadata": {},
   "source": [
    "#### Dataset split"
   ]
  },
  {
   "cell_type": "code",
   "execution_count": null,
   "id": "9c9ec281",
   "metadata": {},
   "outputs": [],
   "source": [
    "# Create two datasets: requests and responses\n",
    "\n",
    "# df = df[df.sig_direction.isin(['request'])].drop('sig_direction', axis=1)\n",
    "# df_response = df[df.sig_direction.isin(['response'])].drop('sig_direction', axis=1)\n",
    "\n",
    "# df.reset_index(inplace=True, drop=True)\n",
    "# df_response.reset_index(inplace=True, drop=True)\n",
    "\n",
    "# del df"
   ]
  },
  {
   "cell_type": "markdown",
   "id": "1509e59c",
   "metadata": {},
   "source": [
    "### Verify the classes ballance"
   ]
  },
  {
   "cell_type": "code",
   "execution_count": null,
   "id": "1d1199c6",
   "metadata": {},
   "outputs": [],
   "source": [
    "df[OutVar].value_counts()"
   ]
  },
  {
   "cell_type": "markdown",
   "id": "a8acecf5",
   "metadata": {},
   "source": [
    "### Get data as arrays"
   ]
  },
  {
   "cell_type": "code",
   "execution_count": null,
   "id": "bea03bd9",
   "metadata": {},
   "outputs": [],
   "source": [
    "# Request\n",
    "\n",
    "Ydata = df[OutVar].values                  # get values of features\n",
    "Xdata = df.drop(OutVar,axis = 1).values    # get output values\n",
    "\n",
    "print('Shape X data:', Xdata.shape)\n",
    "print('Shape Y data:',Ydata.shape)"
   ]
  },
  {
   "cell_type": "markdown",
   "id": "7959ba23",
   "metadata": {},
   "source": [
    "### Data split"
   ]
  },
  {
   "cell_type": "code",
   "execution_count": null,
   "id": "144da96e",
   "metadata": {},
   "outputs": [],
   "source": [
    "# from sklearn.model_selection import train_test_split"
   ]
  },
  {
   "cell_type": "code",
   "execution_count": null,
   "id": "d604e432",
   "metadata": {},
   "outputs": [],
   "source": [
    "# # Request\n",
    "\n",
    "# X_train, X_test, y_train, y_test = train_test_split(Xdata, Ydata,\n",
    "#                                                                     stratify=Ydata, \n",
    "#                                                                     test_size=0.10,\n",
    "#                                                                     random_state=seed)\n",
    "\n",
    "# # verify dimentions of data for training and test\n",
    "# print('Shape X_train:', X_train.shape)\n",
    "# print('Shape X_test:' , X_test.shape)\n",
    "# print('Shape y_train:', y_train.shape)\n",
    "# print('Shape y_test:' , y_test.shape)"
   ]
  },
  {
   "cell_type": "markdown",
   "id": "a0b84adb",
   "metadata": {},
   "source": [
    "### ML"
   ]
  },
  {
   "cell_type": "code",
   "execution_count": null,
   "id": "306a0c09",
   "metadata": {},
   "outputs": [],
   "source": [
    "import time\n",
    "from sklearn.model_selection import cross_val_score, GridSearchCV, StratifiedKFold\n",
    "from sklearn.metrics import confusion_matrix,accuracy_score, roc_auc_score,f1_score, recall_score, precision_score\n",
    "from sklearn.utils import class_weight\n",
    "from sklearn.neighbors import KNeighborsClassifier\n",
    "from sklearn.ensemble import RandomForestClassifier, ExtraTreesClassifier\n",
    "from sklearn.ensemble import GradientBoostingClassifier, BaggingClassifier, AdaBoostClassifier\n",
    "from sklearn.metrics import classification_report\n",
    "from sklearn.naive_bayes import GaussianNB\n",
    "from sklearn.discriminant_analysis import LinearDiscriminantAnalysis\n",
    "from sklearn.tree import DecisionTreeClassifier\n",
    "from sklearn.linear_model import LogisticRegression\n",
    "from sklearn.svm import SVC\n",
    "from sklearn.neural_network import MLPClassifier"
   ]
  },
  {
   "cell_type": "markdown",
   "id": "82ac6edb",
   "metadata": {},
   "source": [
    "##### Classes balance"
   ]
  },
  {
   "cell_type": "code",
   "execution_count": null,
   "id": "69552527",
   "metadata": {},
   "outputs": [],
   "source": [
    "def set_weights(y_data, option='balanced'):\n",
    "    \"\"\"Estimate class weights for umbalanced dataset\n",
    "       If ‘balanced’, class weights will be given by n_samples / (n_classes * np.bincount(y)). \n",
    "       If a dictionary is given, keys are classes and values are corresponding class weights. \n",
    "       If None is given, the class weights will be uniform \"\"\"\n",
    "    cw = class_weight.compute_class_weight(class_weight=option, classes=np.unique(y_data), y=y_data)\n",
    "    w = {i:j for i,j in zip(np.unique(y_data), cw)}\n",
    "    return w\n",
    "\n",
    "class_weights = set_weights(Ydata)\n",
    "\n",
    "print(\"Request balance => \",class_weights)"
   ]
  },
  {
   "cell_type": "markdown",
   "id": "241e86d5",
   "metadata": {},
   "source": [
    "##### Classifiers definition"
   ]
  },
  {
   "cell_type": "code",
   "execution_count": null,
   "id": "32dec07e",
   "metadata": {},
   "outputs": [],
   "source": [
    "# define a list of classifiers to train as baseline classifiers\n",
    "classifiers = [\n",
    "    GaussianNB(),\n",
    "    LinearDiscriminantAnalysis(), # No random_state\n",
    "    LogisticRegression(n_jobs=-1,solver='lbfgs',random_state=seed,class_weight=class_weights),\n",
    "    MLPClassifier(hidden_layer_sizes= (30), random_state = seed, shuffle=False, solver='adam',activation='relu',batch_size=500, max_iter=5000),\n",
    "    DecisionTreeClassifier(random_state=seed,class_weight=class_weights),\n",
    "    RandomForestClassifier(n_jobs=-1,random_state=seed,class_weight=class_weights),\n",
    "    BaggingClassifier(n_jobs=-1,random_state=seed)\n",
    "]"
   ]
  },
  {
   "cell_type": "markdown",
   "id": "96f4d01c",
   "metadata": {},
   "source": [
    "##### Training"
   ]
  },
  {
   "cell_type": "code",
   "execution_count": null,
   "id": "472a2241",
   "metadata": {},
   "outputs": [],
   "source": [
    "from sklearn.model_selection import cross_val_score, StratifiedKFold\n",
    "\n",
    "scores = pd.DataFrame(columns=['Method', 'Cohen'])\n",
    "\n",
    "# RKFold_stratified = RepeatedStratifiedKFold(n_splits=10,n_repeats=50)\n",
    "skf = StratifiedKFold(n_splits=10,shuffle=True,random_state=seed)\n",
    "\n",
    "for classifier in classifiers:\n",
    "    results = cross_val_score(classifier,Xdata,Ydata,cv=skf,scoring='cohen_kappa_score')\n",
    "    scores.append({'Method': str(type(classifier).__name__),'Cohen': results.mean()})\n",
    "\n",
    "\n",
    "print(scores)\n",
    "# import matplotlib.pyplot as plt\n",
    "# %matplotlib inline\n",
    "# plt.plot(hiper_k_rango,scores)\n",
    "# plt.xlabel(\"Valores de k\")\n",
    "# plt.ylabel(\"Accuracy en 50 repeticiones 10-fold cross-validation\")"
   ]
  },
  {
   "cell_type": "code",
   "execution_count": null,
   "id": "3d4bfa1e",
   "metadata": {},
   "outputs": [],
   "source": []
  },
  {
   "cell_type": "markdown",
   "id": "20530004",
   "metadata": {},
   "source": [
    "### Export transformers & model"
   ]
  },
  {
   "cell_type": "code",
   "execution_count": null,
   "id": "ae085e34",
   "metadata": {},
   "outputs": [],
   "source": [
    "# from joblib import dump, load\n",
    "\n",
    "# # Transformers\n",
    "# dump(encoders, '../../persistence/p0f/p0f_encoders.joblib')\n",
    "\n",
    "# # Models\n",
    "# dump(models_ML.Model.values[2],'../../persistence/p0f/p0f_classifier.joblib')"
   ]
  }
 ],
 "metadata": {
  "interpreter": {
   "hash": "641d8269f063d1dd6b8e5de571a838aa2a022ace140349eaf6f3c271c01e6aeb"
  },
  "kernelspec": {
   "display_name": "Python 3.8.10 ('venv': venv)",
   "language": "python",
   "name": "python3"
  },
  "language_info": {
   "codemirror_mode": {
    "name": "ipython",
    "version": 3
   },
   "file_extension": ".py",
   "mimetype": "text/x-python",
   "name": "python",
   "nbconvert_exporter": "python",
   "pygments_lexer": "ipython3",
   "version": "3.11.1"
  }
 },
 "nbformat": 4,
 "nbformat_minor": 5
}
