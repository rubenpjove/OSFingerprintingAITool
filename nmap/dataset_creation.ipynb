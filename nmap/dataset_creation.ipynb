{
 "cells": [
  {
   "cell_type": "code",
   "execution_count": null,
   "source": [
    "import pandas as pd\n",
    "import nmap_db_parser as p\n",
    "\n",
    "in_classes = p.parse_in_classes(\"os-classes-db79-IN.txt\")\n",
    "dataset_list, column_names = p.parse_database(\"db7.9.txt\",100000,in_classes,True)"
   ],
   "outputs": [],
   "metadata": {}
  },
  {
   "cell_type": "code",
   "execution_count": null,
   "source": [
    "df = pd.DataFrame(dataset_list, columns=column_names)\n",
    "del dataset_list"
   ],
   "outputs": [],
   "metadata": {}
  },
  {
   "cell_type": "code",
   "execution_count": null,
   "source": [
    "def group_classes(os_class):\n",
    "    if os_class in ['MacOS','macOS','MacOSX','OSX']:\n",
    "        return 'macOS'\n",
    "    elif os_class in ['IOS','iOS','iPhoneOS']:\n",
    "        return 'iOS'\n",
    "    elif 'BSD' in os_class:\n",
    "        return 'BSD'\n",
    "    else:\n",
    "        return os_class\n",
    "\n",
    "df['Class.OSfamily_0'] = df['Class.OSfamily_0'].apply(group_classes)\n",
    "\n",
    "df.pop('Class.vendor_0')\n",
    "df.pop('Class.OSgen_0')\n",
    "df.pop('Class.device_0')\n",
    "df.reset_index(drop=True, inplace=True)"
   ],
   "outputs": [],
   "metadata": {}
  },
  {
   "cell_type": "code",
   "execution_count": null,
   "source": [
    "# df.to_csv(r'./dataset.csv')\n",
    "df.to_feather(r'./datasetBIG.feather')"
   ],
   "outputs": [],
   "metadata": {}
  }
 ],
 "metadata": {
  "interpreter": {
   "hash": "79c990d43e9044a7289f568bd6e831504df6bfea29362bee0271b5fc85673147"
  },
  "kernelspec": {
   "name": "python3",
   "display_name": "Python 3.8.10 64-bit ('.venv': venv)"
  },
  "language_info": {
   "codemirror_mode": {
    "name": "ipython",
    "version": 3
   },
   "file_extension": ".py",
   "mimetype": "text/x-python",
   "name": "python",
   "nbconvert_exporter": "python",
   "pygments_lexer": "ipython3",
   "version": "3.8.10"
  }
 },
 "nbformat": 4,
 "nbformat_minor": 2
}