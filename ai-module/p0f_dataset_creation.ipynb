{
 "cells": [
  {
   "cell_type": "code",
   "execution_count": 1,
   "metadata": {},
   "outputs": [],
   "source": [
    "import pandas as pd\n",
    "import p0f_db_parser as parser"
   ]
  },
  {
   "cell_type": "code",
   "execution_count": 2,
   "metadata": {},
   "outputs": [
    {
     "name": "stdout",
     "output_type": "stream",
     "text": [
      "Signatures saved: 180\n",
      "Dataset lenght 180\n"
     ]
    }
   ],
   "source": [
    "# p0f fingerprinting database parsing\n",
    "dataset,column_names = parser.parse_database(\"p0f.fp\")"
   ]
  },
  {
   "cell_type": "code",
   "execution_count": 5,
   "metadata": {},
   "outputs": [
    {
     "ename": "NameError",
     "evalue": "name 'dataset' is not defined",
     "output_type": "error",
     "traceback": [
      "\u001b[0;31m---------------------------------------------------------------------------\u001b[0m",
      "\u001b[0;31mNameError\u001b[0m                                 Traceback (most recent call last)",
      "\u001b[1;32m/home/ruben/IAfingerprintingTool/p0f_dataset_creation.ipynb Cell 3'\u001b[0m in \u001b[0;36m<cell line: 3>\u001b[0;34m()\u001b[0m\n\u001b[1;32m      <a href='vscode-notebook-cell:/home/ruben/IAfingerprintingTool/p0f_dataset_creation.ipynb#ch0000001?line=0'>1</a>\u001b[0m \u001b[39m# datasets creation\u001b[39;00m\n\u001b[0;32m----> <a href='vscode-notebook-cell:/home/ruben/IAfingerprintingTool/p0f_dataset_creation.ipynb#ch0000001?line=2'>3</a>\u001b[0m df \u001b[39m=\u001b[39m pd\u001b[39m.\u001b[39mDataFrame(dataset,columns\u001b[39m=\u001b[39mcolumn_names)\n\u001b[1;32m      <a href='vscode-notebook-cell:/home/ruben/IAfingerprintingTool/p0f_dataset_creation.ipynb#ch0000001?line=4'>5</a>\u001b[0m \u001b[39mdel\u001b[39;00m dataset\n",
      "\u001b[0;31mNameError\u001b[0m: name 'dataset' is not defined"
     ]
    }
   ],
   "source": [
    "# datasets creation\n",
    "\n",
    "df = pd.DataFrame(dataset,columns=column_names)\n",
    "\n",
    "del dataset"
   ]
  },
  {
   "cell_type": "code",
   "execution_count": 4,
   "metadata": {},
   "outputs": [],
   "source": [
    "# datasets staging\n",
    "\n",
    "df.to_csv(r'./dataset.csv', index=False, header=True)"
   ]
  }
 ],
 "metadata": {
  "interpreter": {
   "hash": "79c990d43e9044a7289f568bd6e831504df6bfea29362bee0271b5fc85673147"
  },
  "kernelspec": {
   "display_name": "Python 3.8.10 64-bit ('.venv': venv)",
   "name": "python3"
  },
  "language_info": {
   "codemirror_mode": {
    "name": "ipython",
    "version": 3
   },
   "file_extension": ".py",
   "mimetype": "text/x-python",
   "name": "python",
   "nbconvert_exporter": "python",
   "pygments_lexer": "ipython3",
   "version": "3.8.10"
  }
 },
 "nbformat": 4,
 "nbformat_minor": 2
}
